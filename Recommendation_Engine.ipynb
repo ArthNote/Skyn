{
 "cells": [
  {
   "cell_type": "markdown",
   "id": "6211de19",
   "metadata": {},
   "source": [
    "# Skincare Recommendation Engine\n"
   ]
  },
  {
   "cell_type": "markdown",
   "id": "c3e146c2",
   "metadata": {},
   "source": [
    "This notebook walks you through the development of a content-based recommendation engine that should take a list of skin metrics/concerns (skin type, tone, acne, blemishes, redness, etc) as input and return several products that might suit the user's skin. "
   ]
  },
  {
   "cell_type": "code",
   "execution_count": 274,
   "id": "e02d4282",
   "metadata": {},
   "outputs": [],
   "source": [
    "import numpy as np \n",
    "import pandas as pd\n",
    "from sklearn.metrics.pairwise import cosine_similarity\n",
    "import heapq\n"
   ]
  },
  {
   "cell_type": "code",
   "execution_count": 275,
   "id": "f2339cd0",
   "metadata": {},
   "outputs": [],
   "source": [
    "# 'essentials' implies essential facial skincare products\n",
    "df = pd.read_csv('result.csv')\n",
    "makeup = pd.read_csv('result2.csv')"
   ]
  },
  {
   "cell_type": "code",
   "execution_count": 276,
   "id": "5c62b323",
   "metadata": {},
   "outputs": [
    {
     "data": {
      "text/html": [
       "<div>\n",
       "<style scoped>\n",
       "    .dataframe tbody tr th:only-of-type {\n",
       "        vertical-align: middle;\n",
       "    }\n",
       "\n",
       "    .dataframe tbody tr th {\n",
       "        vertical-align: top;\n",
       "    }\n",
       "\n",
       "    .dataframe thead th {\n",
       "        text-align: right;\n",
       "    }\n",
       "</style>\n",
       "<table border=\"1\" class=\"dataframe\">\n",
       "  <thead>\n",
       "    <tr style=\"text-align: right;\">\n",
       "      <th></th>\n",
       "      <th>label</th>\n",
       "      <th>url</th>\n",
       "      <th>brand</th>\n",
       "      <th>name</th>\n",
       "      <th>price</th>\n",
       "      <th>skin type</th>\n",
       "      <th>spf</th>\n",
       "      <th>concern</th>\n",
       "      <th>concern 2</th>\n",
       "      <th>concern 3</th>\n",
       "      <th>key ingredient</th>\n",
       "      <th>formulation</th>\n",
       "    </tr>\n",
       "  </thead>\n",
       "  <tbody>\n",
       "    <tr>\n",
       "      <th>0</th>\n",
       "      <td>face-moisturisers</td>\n",
       "      <td>https://www.myntra.com/face-moisturisers/lakme...</td>\n",
       "      <td>Lakme</td>\n",
       "      <td>Absolute Perfect Radiance Skin Lightening Day ...</td>\n",
       "      <td>₹ 79</td>\n",
       "      <td>All</td>\n",
       "      <td>NaN</td>\n",
       "      <td>General Care</td>\n",
       "      <td>NaN</td>\n",
       "      <td>NaN</td>\n",
       "      <td>NaN</td>\n",
       "      <td>Cream</td>\n",
       "    </tr>\n",
       "    <tr>\n",
       "      <th>1</th>\n",
       "      <td>face-moisturisers</td>\n",
       "      <td>https://www.myntra.com/face-moisturisers/bioti...</td>\n",
       "      <td>Biotique</td>\n",
       "      <td>Bio Morning Nectar Flawless Sustainable Skin M...</td>\n",
       "      <td>₹ 165</td>\n",
       "      <td>All</td>\n",
       "      <td>NaN</td>\n",
       "      <td>Uneven Skin Tone</td>\n",
       "      <td>Hydration</td>\n",
       "      <td>Dark Spots</td>\n",
       "      <td>Honey</td>\n",
       "      <td>Lotion</td>\n",
       "    </tr>\n",
       "    <tr>\n",
       "      <th>2</th>\n",
       "      <td>face-moisturisers</td>\n",
       "      <td>https://www.myntra.com/face-moisturisers/nivea...</td>\n",
       "      <td>Nivea</td>\n",
       "      <td>Unisex Aloe Hydration Skin Cream 100 ml</td>\n",
       "      <td>₹ 92</td>\n",
       "      <td>All</td>\n",
       "      <td>NaN</td>\n",
       "      <td>Dull Skin</td>\n",
       "      <td>Dryness</td>\n",
       "      <td>General Care</td>\n",
       "      <td>Aloe Vera</td>\n",
       "      <td>Cream</td>\n",
       "    </tr>\n",
       "    <tr>\n",
       "      <th>3</th>\n",
       "      <td>face-moisturisers</td>\n",
       "      <td>https://www.myntra.com/face-moisturisers/vi-jo...</td>\n",
       "      <td>VI-JOHN</td>\n",
       "      <td>Women Set of 5 Saffron Fairness Cream Advanced</td>\n",
       "      <td>₹ 187</td>\n",
       "      <td>All</td>\n",
       "      <td>15 to 30</td>\n",
       "      <td>Softening and Smoothening</td>\n",
       "      <td>Softening and Smoothening</td>\n",
       "      <td>Sun Protection</td>\n",
       "      <td>Vitamin E</td>\n",
       "      <td>Cream</td>\n",
       "    </tr>\n",
       "    <tr>\n",
       "      <th>4</th>\n",
       "      <td>face-moisturisers</td>\n",
       "      <td>https://www.myntra.com/face-moisturisers/lakme...</td>\n",
       "      <td>Lakme</td>\n",
       "      <td>Peach Milk Soft Creme 150g</td>\n",
       "      <td>₹ 192</td>\n",
       "      <td>All</td>\n",
       "      <td>NaN</td>\n",
       "      <td>General Care</td>\n",
       "      <td>NaN</td>\n",
       "      <td>NaN</td>\n",
       "      <td>NaN</td>\n",
       "      <td>Cream</td>\n",
       "    </tr>\n",
       "  </tbody>\n",
       "</table>\n",
       "</div>"
      ],
      "text/plain": [
       "               label                                                url  \\\n",
       "0  face-moisturisers  https://www.myntra.com/face-moisturisers/lakme...   \n",
       "1  face-moisturisers  https://www.myntra.com/face-moisturisers/bioti...   \n",
       "2  face-moisturisers  https://www.myntra.com/face-moisturisers/nivea...   \n",
       "3  face-moisturisers  https://www.myntra.com/face-moisturisers/vi-jo...   \n",
       "4  face-moisturisers  https://www.myntra.com/face-moisturisers/lakme...   \n",
       "\n",
       "      brand                                               name  price  \\\n",
       "0     Lakme  Absolute Perfect Radiance Skin Lightening Day ...   ₹ 79   \n",
       "1  Biotique  Bio Morning Nectar Flawless Sustainable Skin M...  ₹ 165   \n",
       "2     Nivea            Unisex Aloe Hydration Skin Cream 100 ml   ₹ 92   \n",
       "3   VI-JOHN     Women Set of 5 Saffron Fairness Cream Advanced  ₹ 187   \n",
       "4     Lakme                         Peach Milk Soft Creme 150g  ₹ 192   \n",
       "\n",
       "  skin type       spf                    concern                  concern 2  \\\n",
       "0       All       NaN               General Care                        NaN   \n",
       "1       All       NaN           Uneven Skin Tone                  Hydration   \n",
       "2       All       NaN                  Dull Skin                    Dryness   \n",
       "3       All  15 to 30  Softening and Smoothening  Softening and Smoothening   \n",
       "4       All       NaN               General Care                        NaN   \n",
       "\n",
       "        concern 3 key ingredient formulation  \n",
       "0             NaN            NaN       Cream  \n",
       "1      Dark Spots          Honey      Lotion  \n",
       "2    General Care      Aloe Vera       Cream  \n",
       "3  Sun Protection      Vitamin E       Cream  \n",
       "4             NaN            NaN       Cream  "
      ]
     },
     "execution_count": 276,
     "metadata": {},
     "output_type": "execute_result"
    }
   ],
   "source": [
    "df.head()"
   ]
  },
  {
   "cell_type": "code",
   "execution_count": 277,
   "id": "17bac683",
   "metadata": {},
   "outputs": [
    {
     "data": {
      "text/html": [
       "<div>\n",
       "<style scoped>\n",
       "    .dataframe tbody tr th:only-of-type {\n",
       "        vertical-align: middle;\n",
       "    }\n",
       "\n",
       "    .dataframe tbody tr th {\n",
       "        vertical-align: top;\n",
       "    }\n",
       "\n",
       "    .dataframe thead th {\n",
       "        text-align: right;\n",
       "    }\n",
       "</style>\n",
       "<table border=\"1\" class=\"dataframe\">\n",
       "  <thead>\n",
       "    <tr style=\"text-align: right;\">\n",
       "      <th></th>\n",
       "      <th>label</th>\n",
       "      <th>url</th>\n",
       "      <th>brand</th>\n",
       "      <th>name</th>\n",
       "      <th>price</th>\n",
       "      <th>skin type</th>\n",
       "      <th>skin tone</th>\n",
       "      <th>spf</th>\n",
       "      <th>concern</th>\n",
       "      <th>concern 2</th>\n",
       "      <th>concern 3</th>\n",
       "      <th>key ingredient</th>\n",
       "      <th>formulation</th>\n",
       "    </tr>\n",
       "  </thead>\n",
       "  <tbody>\n",
       "    <tr>\n",
       "      <th>0</th>\n",
       "      <td>primer</td>\n",
       "      <td>https://www.myntra.com/foundation-and-primer/l...</td>\n",
       "      <td>Lakme</td>\n",
       "      <td>Absolute Blur Perfect Makeup Primer - Mini 10g</td>\n",
       "      <td>₹ 254</td>\n",
       "      <td>All</td>\n",
       "      <td>Light to Medium</td>\n",
       "      <td>NaN</td>\n",
       "      <td>Brightening</td>\n",
       "      <td>NaN</td>\n",
       "      <td>NaN</td>\n",
       "      <td>NaN</td>\n",
       "      <td>Gel</td>\n",
       "    </tr>\n",
       "    <tr>\n",
       "      <th>1</th>\n",
       "      <td>primer</td>\n",
       "      <td>https://www.myntra.com/foundation-and-primer/c...</td>\n",
       "      <td>Colorbar</td>\n",
       "      <td>Perfect Match Primer 30 ml</td>\n",
       "      <td>₹ 595</td>\n",
       "      <td>NaN</td>\n",
       "      <td>NaN</td>\n",
       "      <td>NaN</td>\n",
       "      <td>Dullness</td>\n",
       "      <td>NaN</td>\n",
       "      <td>NaN</td>\n",
       "      <td>Vitamin E</td>\n",
       "      <td>Cream</td>\n",
       "    </tr>\n",
       "    <tr>\n",
       "      <th>2</th>\n",
       "      <td>primer</td>\n",
       "      <td>https://www.myntra.com/foundation-and-primer/w...</td>\n",
       "      <td>Wet n Wild</td>\n",
       "      <td>Sustainable Photo Focus Natural Finish Setting...</td>\n",
       "      <td>₹ 454</td>\n",
       "      <td>Normal</td>\n",
       "      <td>Light to Medium</td>\n",
       "      <td>NaN</td>\n",
       "      <td>NaN</td>\n",
       "      <td>NaN</td>\n",
       "      <td>NaN</td>\n",
       "      <td>NaN</td>\n",
       "      <td>Spray</td>\n",
       "    </tr>\n",
       "    <tr>\n",
       "      <th>3</th>\n",
       "      <td>primer</td>\n",
       "      <td>https://www.myntra.com/foundation-and-primer/m...</td>\n",
       "      <td>M.A.C</td>\n",
       "      <td>Mini Prep+Prime Fix+ 30 ml</td>\n",
       "      <td>₹ 1200</td>\n",
       "      <td>NaN</td>\n",
       "      <td>NaN</td>\n",
       "      <td>NaN</td>\n",
       "      <td>Dryness</td>\n",
       "      <td>NaN</td>\n",
       "      <td>NaN</td>\n",
       "      <td>Vitamin E</td>\n",
       "      <td>Spray</td>\n",
       "    </tr>\n",
       "    <tr>\n",
       "      <th>4</th>\n",
       "      <td>primer</td>\n",
       "      <td>https://www.myntra.com/foundation-and-primer/w...</td>\n",
       "      <td>Wet n Wild</td>\n",
       "      <td>Sustainable Photo Focus Matte Face Primer - Pa...</td>\n",
       "      <td>₹ 454</td>\n",
       "      <td>Normal</td>\n",
       "      <td>Light to Medium</td>\n",
       "      <td>NaN</td>\n",
       "      <td>NaN</td>\n",
       "      <td>NaN</td>\n",
       "      <td>NaN</td>\n",
       "      <td>NaN</td>\n",
       "      <td>Cream</td>\n",
       "    </tr>\n",
       "  </tbody>\n",
       "</table>\n",
       "</div>"
      ],
      "text/plain": [
       "    label                                                url       brand  \\\n",
       "0  primer  https://www.myntra.com/foundation-and-primer/l...       Lakme   \n",
       "1  primer  https://www.myntra.com/foundation-and-primer/c...    Colorbar   \n",
       "2  primer  https://www.myntra.com/foundation-and-primer/w...  Wet n Wild   \n",
       "3  primer  https://www.myntra.com/foundation-and-primer/m...       M.A.C   \n",
       "4  primer  https://www.myntra.com/foundation-and-primer/w...  Wet n Wild   \n",
       "\n",
       "                                                name   price skin type  \\\n",
       "0     Absolute Blur Perfect Makeup Primer - Mini 10g   ₹ 254       All   \n",
       "1                         Perfect Match Primer 30 ml   ₹ 595       NaN   \n",
       "2  Sustainable Photo Focus Natural Finish Setting...   ₹ 454    Normal   \n",
       "3                         Mini Prep+Prime Fix+ 30 ml  ₹ 1200       NaN   \n",
       "4  Sustainable Photo Focus Matte Face Primer - Pa...   ₹ 454    Normal   \n",
       "\n",
       "         skin tone  spf      concern  concern 2  concern 3 key ingredient  \\\n",
       "0  Light to Medium  NaN  Brightening        NaN        NaN            NaN   \n",
       "1              NaN  NaN     Dullness        NaN        NaN      Vitamin E   \n",
       "2  Light to Medium  NaN          NaN        NaN        NaN            NaN   \n",
       "3              NaN  NaN      Dryness        NaN        NaN      Vitamin E   \n",
       "4  Light to Medium  NaN          NaN        NaN        NaN            NaN   \n",
       "\n",
       "  formulation  \n",
       "0         Gel  \n",
       "1       Cream  \n",
       "2       Spray  \n",
       "3       Spray  \n",
       "4       Cream  "
      ]
     },
     "execution_count": 277,
     "metadata": {},
     "output_type": "execute_result"
    }
   ],
   "source": [
    "makeup.head()"
   ]
  },
  {
   "cell_type": "markdown",
   "id": "118feb49",
   "metadata": {},
   "source": [
    "## Data Preprocessing"
   ]
  },
  {
   "cell_type": "markdown",
   "id": "9d652c91",
   "metadata": {},
   "source": [
    "## Imputation of values"
   ]
  },
  {
   "cell_type": "code",
   "execution_count": 278,
   "id": "3860a004",
   "metadata": {
    "scrolled": true
   },
   "outputs": [
    {
     "data": {
      "text/plain": [
       "mask-and-peel        300\n",
       "face-moisturisers    300\n",
       "cleanser             300\n",
       "concealer            300\n",
       "foundation           300\n",
       "sunscreen            272\n",
       "eye-cream            144\n",
       "Name: label, dtype: int64"
      ]
     },
     "execution_count": 278,
     "metadata": {},
     "output_type": "execute_result"
    }
   ],
   "source": [
    "df['label'].value_counts()"
   ]
  },
  {
   "cell_type": "code",
   "execution_count": 279,
   "id": "2f9db474",
   "metadata": {},
   "outputs": [
    {
     "data": {
      "text/plain": [
       "label                0\n",
       "url                  0\n",
       "brand               46\n",
       "name                46\n",
       "price               46\n",
       "skin type          309\n",
       "spf               1496\n",
       "concern            381\n",
       "concern 2         1142\n",
       "concern 3         1334\n",
       "key ingredient    1186\n",
       "formulation        384\n",
       "dtype: int64"
      ]
     },
     "execution_count": 279,
     "metadata": {},
     "output_type": "execute_result"
    }
   ],
   "source": [
    "df.isna().sum()"
   ]
  },
  {
   "cell_type": "code",
   "execution_count": 280,
   "id": "5a386d84",
   "metadata": {},
   "outputs": [],
   "source": [
    "df['concern 2'].fillna('', inplace = True)\n",
    "df['concern 3'].fillna('', inplace = True)\n",
    "df['concern'] = df['concern'] + ',' + df['concern 2'] + ',' + df['concern 3']\n"
   ]
  },
  {
   "cell_type": "code",
   "execution_count": 281,
   "id": "251108c2",
   "metadata": {},
   "outputs": [
    {
     "data": {
      "text/plain": [
       "0                                          General Care,,\n",
       "1                   Uneven Skin Tone,Hydration,Dark Spots\n",
       "2                          Dull Skin,Dryness,General Care\n",
       "3       Softening and Smoothening,Softening and Smooth...\n",
       "4                                          General Care,,\n",
       "                              ...                        \n",
       "1911                   Dark Circles,Dark Circles,Eye Bags\n",
       "1912                               Dark Circles,Eye Bags,\n",
       "1913                                Dark Circles,Dryness,\n",
       "1914                                    Dryness,Eye Bags,\n",
       "1915                       Eye Bags,Dark Circles,Eye Bags\n",
       "Name: concern, Length: 1916, dtype: object"
      ]
     },
     "execution_count": 281,
     "metadata": {},
     "output_type": "execute_result"
    }
   ],
   "source": [
    "df['concern']"
   ]
  },
  {
   "cell_type": "code",
   "execution_count": 282,
   "id": "857ab1c2",
   "metadata": {},
   "outputs": [
    {
     "data": {
      "text/plain": [
       "Sun Protection,,                                           202\n",
       "Dark Spots,,                                                81\n",
       "General Care,,                                              68\n",
       "Dark Circles,,                                              54\n",
       "Fine Lines and Wrinkles,,                                   45\n",
       "                                                          ... \n",
       "Deep Nourishment,Dark Spots,Acne or Blemishes                1\n",
       "Oily Skin,Skin Inflammation,                                 1\n",
       "Hydration,Dull Skin,Dryness                                  1\n",
       "Softening and Smoothening,Skin Sagging,Uneven Skin Tone      1\n",
       "Acne or Blemishes,Pore Care,Pore Care                        1\n",
       "Name: concern, Length: 441, dtype: int64"
      ]
     },
     "execution_count": 282,
     "metadata": {},
     "output_type": "execute_result"
    }
   ],
   "source": [
    "df.drop(columns=['concern 2', 'concern 3', 'spf', 'key ingredient'], inplace = True)\n",
    "df['concern'].value_counts()"
   ]
  },
  {
   "cell_type": "code",
   "execution_count": 283,
   "id": "e8770c2a",
   "metadata": {},
   "outputs": [],
   "source": [
    "df2 = df[((df['label'] == 'face-moisturisers') | (df['label'] == 'mask-and-peel') | (df['label'] == 'cleanser') | (df['label'] == 'eye-cream'))]\n",
    "df2\n",
    "LABELS = list(df2.label.unique())"
   ]
  },
  {
   "cell_type": "code",
   "execution_count": 284,
   "id": "8d66115c",
   "metadata": {
    "scrolled": true
   },
   "outputs": [
    {
     "name": "stdout",
     "output_type": "stream",
     "text": [
      "<class 'pandas.core.frame.DataFrame'>\n",
      "Int64Index: 1011 entries, 0 to 1010\n",
      "Data columns (total 8 columns):\n",
      " #   Column       Non-Null Count  Dtype \n",
      "---  ------       --------------  ----- \n",
      " 0   label        1011 non-null   object\n",
      " 1   url          1011 non-null   object\n",
      " 2   brand        1011 non-null   object\n",
      " 3   name         1011 non-null   object\n",
      " 4   price        1011 non-null   object\n",
      " 5   skin type    1011 non-null   object\n",
      " 6   concern      982 non-null    object\n",
      " 7   formulation  710 non-null    object\n",
      "dtypes: object(8)\n",
      "memory usage: 71.1+ KB\n"
     ]
    }
   ],
   "source": [
    "df2 = df2[df2['skin type'].isna() == False]\n",
    "df2.index = [i for i in range(0, len(df2))]\n",
    "df2.info()"
   ]
  },
  {
   "cell_type": "code",
   "execution_count": 285,
   "id": "7721054c",
   "metadata": {},
   "outputs": [
    {
     "data": {
      "text/plain": [
       "face-moisturisers    10\n",
       "mask-and-peel         9\n",
       "eye-cream             5\n",
       "cleanser              5\n",
       "Name: label, dtype: int64"
      ]
     },
     "execution_count": 285,
     "metadata": {},
     "output_type": "execute_result"
    }
   ],
   "source": [
    "df2[df2['concern'].isna() == True]['label'].value_counts()"
   ]
  },
  {
   "cell_type": "code",
   "execution_count": 286,
   "id": "be8a25ec",
   "metadata": {},
   "outputs": [
    {
     "data": {
      "text/plain": [
       "Fine Lines and Wrinkles,Dark Circles,Eye Bags    20\n",
       "Dark Circles,Eye Bags,                           18\n",
       "Dark Circles,,                                   14\n",
       "Dark Circles,Dark Circles,Eye Bags               14\n",
       "Dark Circles,Eye Bags,Dark Circles               11\n",
       "Fine Lines and Wrinkles,Dark Circles,             9\n",
       "Dark Circles,Eye Bags,Dryness                     9\n",
       "Fine Lines and Wrinkles,,                         5\n",
       "Fine Lines and Wrinkles,Dark Circles,Dryness      5\n",
       "Lightening,Dark Circles,Eye Bags                  5\n",
       "Fine Lines and Wrinkles,Dryness,                  4\n",
       "Dryness,Dark Circles,                             3\n",
       "Eye Bags,Dark Circles,Eye Bags                    3\n",
       "Dark Circles,Dryness,                             3\n",
       "Fine Lines and Wrinkles,Dryness,Eye Bags          2\n",
       "Dryness,Eye Bags,                                 2\n",
       "Dryness,,                                         2\n",
       "Dryness,Eye Bags,Dark Circles                     2\n",
       "Dark Circles,Dark Circles,                        2\n",
       "Eye Bags,Dark Circles,Dryness                     1\n",
       "Dark Circles,Dark Circles,Dryness                 1\n",
       "Lightening,Dryness,                               1\n",
       "Lightening,Dark Circles,Dryness                   1\n",
       "Dark Circles,Dryness,Eye Bags                     1\n",
       "Lightening,,                                      1\n",
       "Name: concern, dtype: int64"
      ]
     },
     "execution_count": 286,
     "metadata": {},
     "output_type": "execute_result"
    }
   ],
   "source": [
    "df2[df2['label'] ==  'eye-cream']['concern'].value_counts()"
   ]
  },
  {
   "cell_type": "code",
   "execution_count": 287,
   "id": "fce3fe39",
   "metadata": {},
   "outputs": [
    {
     "data": {
      "text/plain": [
       "Series([], Name: concern, dtype: int64)"
      ]
     },
     "execution_count": 287,
     "metadata": {},
     "output_type": "execute_result"
    }
   ],
   "source": [
    "df2['concern'] = df2['concern'].str.lower()\n",
    "# df2[df2['label'] == 'face-moisturisers']['concern'].value_counts()\n",
    "# df2[df2['label'] == 'mask-and-peel']['concern'].value_counts()\n",
    "df2[df2['label'] == 'sunscreen']['concern'].value_counts()\n",
    "\n"
   ]
  },
  {
   "cell_type": "code",
   "execution_count": 288,
   "id": "26c66535",
   "metadata": {},
   "outputs": [
    {
     "name": "stdout",
     "output_type": "stream",
     "text": [
      "<class 'pandas.core.frame.DataFrame'>\n",
      "Int64Index: 1011 entries, 0 to 1010\n",
      "Data columns (total 8 columns):\n",
      " #   Column       Non-Null Count  Dtype \n",
      "---  ------       --------------  ----- \n",
      " 0   label        1011 non-null   object\n",
      " 1   url          1011 non-null   object\n",
      " 2   brand        1011 non-null   object\n",
      " 3   name         1011 non-null   object\n",
      " 4   price        1011 non-null   object\n",
      " 5   skin type    1011 non-null   object\n",
      " 6   concern      1011 non-null   object\n",
      " 7   formulation  710 non-null    object\n",
      "dtypes: object(8)\n",
      "memory usage: 71.1+ KB\n"
     ]
    }
   ],
   "source": [
    "top_concerns = {'face-moisturisers':'general care', 'mask-and-peel':'daily use', 'cleanser':'general care', 'eye-cream':'fine lines,wrinkles,dark circles,eye bags' }\n",
    "entries = len(df2)\n",
    "for i in range(entries):\n",
    "    label = df2.iloc[i]['label']\n",
    "    if pd.isnull(df2.iloc[i]['concern']):\n",
    "        df2.iloc[i]['concern'] = top_concerns[label]\n",
    "df2.info()\n",
    "\n",
    "    "
   ]
  },
  {
   "cell_type": "code",
   "execution_count": 289,
   "id": "45ae57db",
   "metadata": {},
   "outputs": [
    {
     "data": {
      "text/html": [
       "<div>\n",
       "<style scoped>\n",
       "    .dataframe tbody tr th:only-of-type {\n",
       "        vertical-align: middle;\n",
       "    }\n",
       "\n",
       "    .dataframe tbody tr th {\n",
       "        vertical-align: top;\n",
       "    }\n",
       "\n",
       "    .dataframe thead th {\n",
       "        text-align: right;\n",
       "    }\n",
       "</style>\n",
       "<table border=\"1\" class=\"dataframe\">\n",
       "  <thead>\n",
       "    <tr style=\"text-align: right;\">\n",
       "      <th></th>\n",
       "      <th>label</th>\n",
       "      <th>url</th>\n",
       "      <th>brand</th>\n",
       "      <th>name</th>\n",
       "      <th>price</th>\n",
       "      <th>skin type</th>\n",
       "      <th>concern</th>\n",
       "      <th>formulation</th>\n",
       "    </tr>\n",
       "  </thead>\n",
       "  <tbody>\n",
       "    <tr>\n",
       "      <th>0</th>\n",
       "      <td>face-moisturisers</td>\n",
       "      <td>https://www.myntra.com/face-moisturisers/lakme...</td>\n",
       "      <td>Lakme</td>\n",
       "      <td>Absolute Perfect Radiance Skin Lightening Day ...</td>\n",
       "      <td>₹ 79</td>\n",
       "      <td>All</td>\n",
       "      <td>general care,,</td>\n",
       "      <td>Cream</td>\n",
       "    </tr>\n",
       "    <tr>\n",
       "      <th>1</th>\n",
       "      <td>face-moisturisers</td>\n",
       "      <td>https://www.myntra.com/face-moisturisers/bioti...</td>\n",
       "      <td>Biotique</td>\n",
       "      <td>Bio Morning Nectar Flawless Sustainable Skin M...</td>\n",
       "      <td>₹ 165</td>\n",
       "      <td>All</td>\n",
       "      <td>uneven skin tone,hydration,dark spots</td>\n",
       "      <td>Lotion</td>\n",
       "    </tr>\n",
       "    <tr>\n",
       "      <th>2</th>\n",
       "      <td>face-moisturisers</td>\n",
       "      <td>https://www.myntra.com/face-moisturisers/nivea...</td>\n",
       "      <td>Nivea</td>\n",
       "      <td>Unisex Aloe Hydration Skin Cream 100 ml</td>\n",
       "      <td>₹ 92</td>\n",
       "      <td>All</td>\n",
       "      <td>dull skin,dryness,general care</td>\n",
       "      <td>Cream</td>\n",
       "    </tr>\n",
       "    <tr>\n",
       "      <th>3</th>\n",
       "      <td>face-moisturisers</td>\n",
       "      <td>https://www.myntra.com/face-moisturisers/vi-jo...</td>\n",
       "      <td>VI-JOHN</td>\n",
       "      <td>Women Set of 5 Saffron Fairness Cream Advanced</td>\n",
       "      <td>₹ 187</td>\n",
       "      <td>All</td>\n",
       "      <td>softening and smoothening,softening and smooth...</td>\n",
       "      <td>Cream</td>\n",
       "    </tr>\n",
       "    <tr>\n",
       "      <th>4</th>\n",
       "      <td>face-moisturisers</td>\n",
       "      <td>https://www.myntra.com/face-moisturisers/lakme...</td>\n",
       "      <td>Lakme</td>\n",
       "      <td>Peach Milk Soft Creme 150g</td>\n",
       "      <td>₹ 192</td>\n",
       "      <td>All</td>\n",
       "      <td>general care,,</td>\n",
       "      <td>Cream</td>\n",
       "    </tr>\n",
       "    <tr>\n",
       "      <th>...</th>\n",
       "      <td>...</td>\n",
       "      <td>...</td>\n",
       "      <td>...</td>\n",
       "      <td>...</td>\n",
       "      <td>...</td>\n",
       "      <td>...</td>\n",
       "      <td>...</td>\n",
       "      <td>...</td>\n",
       "    </tr>\n",
       "    <tr>\n",
       "      <th>1006</th>\n",
       "      <td>eye-cream</td>\n",
       "      <td>https://www.myntra.com/eye-cream/stbotanica/st...</td>\n",
       "      <td>St.Botanica</td>\n",
       "      <td>StBotanica Pomegranate Radiant Glow Under Eye ...</td>\n",
       "      <td>₹ 749</td>\n",
       "      <td>Normal</td>\n",
       "      <td>dark circles,dark circles,eye bags</td>\n",
       "      <td>Cream</td>\n",
       "    </tr>\n",
       "    <tr>\n",
       "      <th>1007</th>\n",
       "      <td>eye-cream</td>\n",
       "      <td>https://www.myntra.com/eye-cream/stbotanica/st...</td>\n",
       "      <td>St.Botanica</td>\n",
       "      <td>StBotanica Vitamin C Brightening Under Eye Ser...</td>\n",
       "      <td>₹ 999</td>\n",
       "      <td>Normal</td>\n",
       "      <td>dark circles,eye bags,</td>\n",
       "      <td>Serum</td>\n",
       "    </tr>\n",
       "    <tr>\n",
       "      <th>1008</th>\n",
       "      <td>eye-cream</td>\n",
       "      <td>https://www.myntra.com/eye-cream/shiseido/shis...</td>\n",
       "      <td>SHISEIDO</td>\n",
       "      <td>Unisex White Lucent Anti-Dark Circles Eye Trea...</td>\n",
       "      <td>₹ 3,150</td>\n",
       "      <td>All</td>\n",
       "      <td>dark circles,dryness,</td>\n",
       "      <td>Cream</td>\n",
       "    </tr>\n",
       "    <tr>\n",
       "      <th>1009</th>\n",
       "      <td>eye-cream</td>\n",
       "      <td>https://www.myntra.com/eye-cream/yves-rocher/y...</td>\n",
       "      <td>YVES ROCHER</td>\n",
       "      <td>Yves Rocher Unisex Hydra Vegetal Anti-Fatigue ...</td>\n",
       "      <td>₹ 861</td>\n",
       "      <td>All</td>\n",
       "      <td>dryness,eye bags,</td>\n",
       "      <td>Gel</td>\n",
       "    </tr>\n",
       "    <tr>\n",
       "      <th>1010</th>\n",
       "      <td>eye-cream</td>\n",
       "      <td>https://www.myntra.com/eye-cream/loccitane-en-...</td>\n",
       "      <td>LOccitane en Provence</td>\n",
       "      <td>Unisex Immortelle Divine Eye Cream</td>\n",
       "      <td>₹ 5,900</td>\n",
       "      <td>Normal</td>\n",
       "      <td>eye bags,dark circles,eye bags</td>\n",
       "      <td>Cream</td>\n",
       "    </tr>\n",
       "  </tbody>\n",
       "</table>\n",
       "<p>1011 rows × 8 columns</p>\n",
       "</div>"
      ],
      "text/plain": [
       "                  label                                                url  \\\n",
       "0     face-moisturisers  https://www.myntra.com/face-moisturisers/lakme...   \n",
       "1     face-moisturisers  https://www.myntra.com/face-moisturisers/bioti...   \n",
       "2     face-moisturisers  https://www.myntra.com/face-moisturisers/nivea...   \n",
       "3     face-moisturisers  https://www.myntra.com/face-moisturisers/vi-jo...   \n",
       "4     face-moisturisers  https://www.myntra.com/face-moisturisers/lakme...   \n",
       "...                 ...                                                ...   \n",
       "1006          eye-cream  https://www.myntra.com/eye-cream/stbotanica/st...   \n",
       "1007          eye-cream  https://www.myntra.com/eye-cream/stbotanica/st...   \n",
       "1008          eye-cream  https://www.myntra.com/eye-cream/shiseido/shis...   \n",
       "1009          eye-cream  https://www.myntra.com/eye-cream/yves-rocher/y...   \n",
       "1010          eye-cream  https://www.myntra.com/eye-cream/loccitane-en-...   \n",
       "\n",
       "                      brand  \\\n",
       "0                     Lakme   \n",
       "1                  Biotique   \n",
       "2                     Nivea   \n",
       "3                   VI-JOHN   \n",
       "4                     Lakme   \n",
       "...                     ...   \n",
       "1006            St.Botanica   \n",
       "1007            St.Botanica   \n",
       "1008               SHISEIDO   \n",
       "1009            YVES ROCHER   \n",
       "1010  LOccitane en Provence   \n",
       "\n",
       "                                                   name    price skin type  \\\n",
       "0     Absolute Perfect Radiance Skin Lightening Day ...     ₹ 79       All   \n",
       "1     Bio Morning Nectar Flawless Sustainable Skin M...    ₹ 165       All   \n",
       "2               Unisex Aloe Hydration Skin Cream 100 ml     ₹ 92       All   \n",
       "3        Women Set of 5 Saffron Fairness Cream Advanced    ₹ 187       All   \n",
       "4                            Peach Milk Soft Creme 150g    ₹ 192       All   \n",
       "...                                                 ...      ...       ...   \n",
       "1006  StBotanica Pomegranate Radiant Glow Under Eye ...    ₹ 749    Normal   \n",
       "1007  StBotanica Vitamin C Brightening Under Eye Ser...    ₹ 999    Normal   \n",
       "1008  Unisex White Lucent Anti-Dark Circles Eye Trea...  ₹ 3,150       All   \n",
       "1009  Yves Rocher Unisex Hydra Vegetal Anti-Fatigue ...    ₹ 861       All   \n",
       "1010                 Unisex Immortelle Divine Eye Cream  ₹ 5,900    Normal   \n",
       "\n",
       "                                                concern formulation  \n",
       "0                                        general care,,       Cream  \n",
       "1                 uneven skin tone,hydration,dark spots      Lotion  \n",
       "2                        dull skin,dryness,general care       Cream  \n",
       "3     softening and smoothening,softening and smooth...       Cream  \n",
       "4                                        general care,,       Cream  \n",
       "...                                                 ...         ...  \n",
       "1006                 dark circles,dark circles,eye bags       Cream  \n",
       "1007                             dark circles,eye bags,       Serum  \n",
       "1008                              dark circles,dryness,       Cream  \n",
       "1009                                  dryness,eye bags,         Gel  \n",
       "1010                     eye bags,dark circles,eye bags       Cream  \n",
       "\n",
       "[1011 rows x 8 columns]"
      ]
     },
     "execution_count": 289,
     "metadata": {},
     "output_type": "execute_result"
    }
   ],
   "source": [
    "df2"
   ]
  },
  {
   "cell_type": "code",
   "execution_count": 290,
   "id": "e9dd8a89",
   "metadata": {},
   "outputs": [
    {
     "data": {
      "text/html": [
       "<div>\n",
       "<style scoped>\n",
       "    .dataframe tbody tr th:only-of-type {\n",
       "        vertical-align: middle;\n",
       "    }\n",
       "\n",
       "    .dataframe tbody tr th {\n",
       "        vertical-align: top;\n",
       "    }\n",
       "\n",
       "    .dataframe thead th {\n",
       "        text-align: right;\n",
       "    }\n",
       "</style>\n",
       "<table border=\"1\" class=\"dataframe\">\n",
       "  <thead>\n",
       "    <tr style=\"text-align: right;\">\n",
       "      <th></th>\n",
       "      <th>label</th>\n",
       "      <th>url</th>\n",
       "      <th>brand</th>\n",
       "      <th>name</th>\n",
       "      <th>price</th>\n",
       "      <th>skin type</th>\n",
       "      <th>concern</th>\n",
       "      <th>formulation</th>\n",
       "    </tr>\n",
       "  </thead>\n",
       "  <tbody>\n",
       "    <tr>\n",
       "      <th>0</th>\n",
       "      <td>face-moisturisers</td>\n",
       "      <td>https://www.myntra.com/face-moisturisers/lakme...</td>\n",
       "      <td>lakme</td>\n",
       "      <td>absolute perfect radiance skin lightening day ...</td>\n",
       "      <td>₹ 79</td>\n",
       "      <td>all</td>\n",
       "      <td>general care,,</td>\n",
       "      <td>Cream</td>\n",
       "    </tr>\n",
       "    <tr>\n",
       "      <th>1</th>\n",
       "      <td>face-moisturisers</td>\n",
       "      <td>https://www.myntra.com/face-moisturisers/bioti...</td>\n",
       "      <td>biotique</td>\n",
       "      <td>bio morning nectar flawless sustainable skin m...</td>\n",
       "      <td>₹ 165</td>\n",
       "      <td>all</td>\n",
       "      <td>uneven skin tone,hydration,dark spots</td>\n",
       "      <td>Lotion</td>\n",
       "    </tr>\n",
       "    <tr>\n",
       "      <th>2</th>\n",
       "      <td>face-moisturisers</td>\n",
       "      <td>https://www.myntra.com/face-moisturisers/nivea...</td>\n",
       "      <td>nivea</td>\n",
       "      <td>unisex aloe hydration skin cream 100 ml</td>\n",
       "      <td>₹ 92</td>\n",
       "      <td>all</td>\n",
       "      <td>dull skin,dryness,general care</td>\n",
       "      <td>Cream</td>\n",
       "    </tr>\n",
       "    <tr>\n",
       "      <th>3</th>\n",
       "      <td>face-moisturisers</td>\n",
       "      <td>https://www.myntra.com/face-moisturisers/vi-jo...</td>\n",
       "      <td>vi-john</td>\n",
       "      <td>women set of 5 saffron fairness cream advanced</td>\n",
       "      <td>₹ 187</td>\n",
       "      <td>all</td>\n",
       "      <td>softening,smoothening,softening,smoothening,su...</td>\n",
       "      <td>Cream</td>\n",
       "    </tr>\n",
       "    <tr>\n",
       "      <th>4</th>\n",
       "      <td>face-moisturisers</td>\n",
       "      <td>https://www.myntra.com/face-moisturisers/lakme...</td>\n",
       "      <td>lakme</td>\n",
       "      <td>peach milk soft creme 150g</td>\n",
       "      <td>₹ 192</td>\n",
       "      <td>all</td>\n",
       "      <td>general care,,</td>\n",
       "      <td>Cream</td>\n",
       "    </tr>\n",
       "    <tr>\n",
       "      <th>...</th>\n",
       "      <td>...</td>\n",
       "      <td>...</td>\n",
       "      <td>...</td>\n",
       "      <td>...</td>\n",
       "      <td>...</td>\n",
       "      <td>...</td>\n",
       "      <td>...</td>\n",
       "      <td>...</td>\n",
       "    </tr>\n",
       "    <tr>\n",
       "      <th>1006</th>\n",
       "      <td>eye-cream</td>\n",
       "      <td>https://www.myntra.com/eye-cream/stbotanica/st...</td>\n",
       "      <td>st.botanica</td>\n",
       "      <td>stbotanica pomegranate radiant glow under eye ...</td>\n",
       "      <td>₹ 749</td>\n",
       "      <td>normal</td>\n",
       "      <td>dark circles,dark circles,eye bags</td>\n",
       "      <td>Cream</td>\n",
       "    </tr>\n",
       "    <tr>\n",
       "      <th>1007</th>\n",
       "      <td>eye-cream</td>\n",
       "      <td>https://www.myntra.com/eye-cream/stbotanica/st...</td>\n",
       "      <td>st.botanica</td>\n",
       "      <td>stbotanica vitamin c brightening under eye ser...</td>\n",
       "      <td>₹ 999</td>\n",
       "      <td>normal</td>\n",
       "      <td>dark circles,eye bags,</td>\n",
       "      <td>Serum</td>\n",
       "    </tr>\n",
       "    <tr>\n",
       "      <th>1008</th>\n",
       "      <td>eye-cream</td>\n",
       "      <td>https://www.myntra.com/eye-cream/shiseido/shis...</td>\n",
       "      <td>shiseido</td>\n",
       "      <td>unisex white lucent anti-dark circles eye trea...</td>\n",
       "      <td>₹ 3,150</td>\n",
       "      <td>all</td>\n",
       "      <td>dark circles,dryness,</td>\n",
       "      <td>Cream</td>\n",
       "    </tr>\n",
       "    <tr>\n",
       "      <th>1009</th>\n",
       "      <td>eye-cream</td>\n",
       "      <td>https://www.myntra.com/eye-cream/yves-rocher/y...</td>\n",
       "      <td>yves rocher</td>\n",
       "      <td>yves rocher unisex hydra vegetal anti-fatigue ...</td>\n",
       "      <td>₹ 861</td>\n",
       "      <td>all</td>\n",
       "      <td>dryness,eye bags,</td>\n",
       "      <td>Gel</td>\n",
       "    </tr>\n",
       "    <tr>\n",
       "      <th>1010</th>\n",
       "      <td>eye-cream</td>\n",
       "      <td>https://www.myntra.com/eye-cream/loccitane-en-...</td>\n",
       "      <td>loccitane en provence</td>\n",
       "      <td>unisex immortelle divine eye cream</td>\n",
       "      <td>₹ 5,900</td>\n",
       "      <td>normal</td>\n",
       "      <td>eye bags,dark circles,eye bags</td>\n",
       "      <td>Cream</td>\n",
       "    </tr>\n",
       "  </tbody>\n",
       "</table>\n",
       "<p>1011 rows × 8 columns</p>\n",
       "</div>"
      ],
      "text/plain": [
       "                  label                                                url  \\\n",
       "0     face-moisturisers  https://www.myntra.com/face-moisturisers/lakme...   \n",
       "1     face-moisturisers  https://www.myntra.com/face-moisturisers/bioti...   \n",
       "2     face-moisturisers  https://www.myntra.com/face-moisturisers/nivea...   \n",
       "3     face-moisturisers  https://www.myntra.com/face-moisturisers/vi-jo...   \n",
       "4     face-moisturisers  https://www.myntra.com/face-moisturisers/lakme...   \n",
       "...                 ...                                                ...   \n",
       "1006          eye-cream  https://www.myntra.com/eye-cream/stbotanica/st...   \n",
       "1007          eye-cream  https://www.myntra.com/eye-cream/stbotanica/st...   \n",
       "1008          eye-cream  https://www.myntra.com/eye-cream/shiseido/shis...   \n",
       "1009          eye-cream  https://www.myntra.com/eye-cream/yves-rocher/y...   \n",
       "1010          eye-cream  https://www.myntra.com/eye-cream/loccitane-en-...   \n",
       "\n",
       "                      brand  \\\n",
       "0                     lakme   \n",
       "1                  biotique   \n",
       "2                     nivea   \n",
       "3                   vi-john   \n",
       "4                     lakme   \n",
       "...                     ...   \n",
       "1006            st.botanica   \n",
       "1007            st.botanica   \n",
       "1008               shiseido   \n",
       "1009            yves rocher   \n",
       "1010  loccitane en provence   \n",
       "\n",
       "                                                   name    price skin type  \\\n",
       "0     absolute perfect radiance skin lightening day ...     ₹ 79       all   \n",
       "1     bio morning nectar flawless sustainable skin m...    ₹ 165       all   \n",
       "2               unisex aloe hydration skin cream 100 ml     ₹ 92       all   \n",
       "3        women set of 5 saffron fairness cream advanced    ₹ 187       all   \n",
       "4                            peach milk soft creme 150g    ₹ 192       all   \n",
       "...                                                 ...      ...       ...   \n",
       "1006  stbotanica pomegranate radiant glow under eye ...    ₹ 749    normal   \n",
       "1007  stbotanica vitamin c brightening under eye ser...    ₹ 999    normal   \n",
       "1008  unisex white lucent anti-dark circles eye trea...  ₹ 3,150       all   \n",
       "1009  yves rocher unisex hydra vegetal anti-fatigue ...    ₹ 861       all   \n",
       "1010                 unisex immortelle divine eye cream  ₹ 5,900    normal   \n",
       "\n",
       "                                                concern formulation  \n",
       "0                                        general care,,       Cream  \n",
       "1                 uneven skin tone,hydration,dark spots      Lotion  \n",
       "2                        dull skin,dryness,general care       Cream  \n",
       "3     softening,smoothening,softening,smoothening,su...       Cream  \n",
       "4                                        general care,,       Cream  \n",
       "...                                                 ...         ...  \n",
       "1006                 dark circles,dark circles,eye bags       Cream  \n",
       "1007                             dark circles,eye bags,       Serum  \n",
       "1008                              dark circles,dryness,       Cream  \n",
       "1009                                  dryness,eye bags,         Gel  \n",
       "1010                     eye bags,dark circles,eye bags       Cream  \n",
       "\n",
       "[1011 rows x 8 columns]"
      ]
     },
     "execution_count": 290,
     "metadata": {},
     "output_type": "execute_result"
    }
   ],
   "source": [
    "df2['brand'] = df2['brand'].str.lower()\n",
    "df2['name'] = df2['name'].str.lower()\n",
    "df2['skin type'] = df2['skin type'].str.lower()\n",
    "df2['concern'] = df2['concern'].str.replace(' and ', ',').str.replace(' or ', ',')\n",
    "df2"
   ]
  },
  {
   "cell_type": "code",
   "execution_count": 291,
   "id": "c6081aef",
   "metadata": {},
   "outputs": [],
   "source": [
    "def concern_elements(comma_sep_concerns):\n",
    "    words = comma_sep_concerns.split(',')\n",
    "    for w in words:\n",
    "        if w != '':\n",
    "            temp = w.rstrip()\n",
    "            if temp in concerns:\n",
    "                concerns[temp] += 1\n",
    "            else:\n",
    "                concerns[temp] = 1\n",
    "\n",
    "\n",
    "            \n",
    "# features\n",
    "list(df2['skin type'].unique())\n",
    "concerns = {}\n",
    "for i in range(entries):\n",
    "    concern_elements(df2.iloc[i]['concern'])\n",
    "    "
   ]
  },
  {
   "cell_type": "code",
   "execution_count": null,
   "id": "e9cb62a8",
   "metadata": {},
   "outputs": [],
   "source": []
  },
  {
   "cell_type": "code",
   "execution_count": 292,
   "id": "43bfe84f",
   "metadata": {},
   "outputs": [
    {
     "name": "stdout",
     "output_type": "stream",
     "text": [
      "[('anti acne scarring', 1), ('anti-ageing', 2), ('skin tightening', 2), ('blackheads removal', 4), ('irregular textures', 6), ('skin inflammation', 11), ('oil control', 15), ('redness', 15), ('oily skin', 16), ('skin sagging', 20), ('sun protection', 21), ('lightening', 30), ('tan removal', 48), ('anti-pollution', 60), ('blackheads', 61), ('whiteheads', 61), ('dark spots', 71), ('pigmentation', 71), ('uneven skin tone', 76), ('excess oil', 90), ('eye bags', 96), ('deep nourishment', 106), ('pore care', 110), ('smoothening', 112), ('softening', 112), ('dryness', 129), ('fine lines', 145), ('wrinkles', 145), ('acne', 155), ('blemishes', 155), ('dark circles', 155), ('hydration', 156), ('daily use', 158), ('general care', 158), ('dull skin', 166)]\n"
     ]
    }
   ],
   "source": [
    "print(sorted(concerns.items(), key =\n",
    "             lambda kv:(kv[1], kv[0])))   "
   ]
  },
  {
   "cell_type": "code",
   "execution_count": 293,
   "id": "ea53fef4",
   "metadata": {},
   "outputs": [
    {
     "data": {
      "text/plain": [
       "90"
      ]
     },
     "execution_count": 293,
     "metadata": {},
     "output_type": "execute_result"
    }
   ],
   "source": [
    "concerns.pop('anti acne scarring')\n",
    "concerns.pop('anti-ageing')\n",
    "concerns.pop('skin tightening')\n",
    "concerns.pop('blackheads removal')\n",
    "concerns.pop('irregular textures')\n",
    "concerns.pop('skin inflammation')\n",
    "concerns.pop('oil control')\n",
    "concerns.pop('redness')\n",
    "concerns.pop('oily skin')\n",
    "concerns.pop('skin sagging')\n",
    "concerns.pop('sun protection')\n",
    "concerns.pop('lightening')\n",
    "concerns.pop('tan removal')\n",
    "concerns.pop('excess oil')\n",
    "\n",
    "# concerns.pop('anti acne scarring')\n",
    "# concerns['scarring'] = \n",
    "# concerns.remo('blackheads removal')\n",
    "# concerns.remove('dull skin')\n",
    "# # concerns.remove('dullness')\n",
    "# concerns.add('dull')\n",
    "# concerns.remove('oily skin')\n",
    "# concerns.remove('excess oil')\n",
    "# concerns.remove('oil control')\n",
    "# concerns.add('oil')"
   ]
  },
  {
   "cell_type": "code",
   "execution_count": 294,
   "id": "d5d0b141",
   "metadata": {},
   "outputs": [],
   "source": [
    "features = list(df2['skin type'].unique()) + list(concerns)\n",
    "(features)\n",
    "\n",
    "features = ['normal','dry','oily','combination', 'acne','sensitive','fine lines', 'wrinkles', 'redness', 'dull', 'pore', 'pigmentation', 'blackheads','whiteheads', 'blemishes', 'dark circles', 'eye bags', 'dark spots']"
   ]
  },
  {
   "cell_type": "code",
   "execution_count": null,
   "id": "ad98a1a7",
   "metadata": {},
   "outputs": [],
   "source": []
  },
  {
   "cell_type": "code",
   "execution_count": 295,
   "id": "56fc0a23",
   "metadata": {},
   "outputs": [
    {
     "data": {
      "text/plain": [
       "18"
      ]
     },
     "execution_count": 295,
     "metadata": {},
     "output_type": "execute_result"
    }
   ],
   "source": [
    "len(features)"
   ]
  },
  {
   "cell_type": "code",
   "execution_count": 296,
   "id": "1db8d323",
   "metadata": {},
   "outputs": [],
   "source": [
    "def search_concern(target, i):\n",
    "    if target in df2.iloc[i]['concern']:\n",
    "        return True\n",
    "    return False\n",
    "\n",
    "one_hot_encodings = np.zeros([entries, len(features)])\n",
    "\n",
    "#skin types first\n",
    "for i in range(entries):\n",
    "    for j in range(5):\n",
    "        target = features[j]\n",
    "        sk_type = df2.iloc[i]['skin type']\n",
    "        if sk_type == 'all':\n",
    "            one_hot_encodings[i][0:5] = 1\n",
    "        elif target == sk_type:\n",
    "            one_hot_encodings[i][j] = 1\n",
    "\n",
    "#other features\n",
    "for i in range(entries):\n",
    "    for j in range(5, len(features)):\n",
    "        feature = features[j]\n",
    "        if feature in df2.iloc[i]['concern']:\n",
    "            one_hot_encodings[i][j] = 1\n",
    "            \n",
    "    "
   ]
  },
  {
   "cell_type": "code",
   "execution_count": 297,
   "id": "93e1c061",
   "metadata": {},
   "outputs": [],
   "source": [
    "x = one_hot_encodings[456]"
   ]
  },
  {
   "cell_type": "code",
   "execution_count": 298,
   "id": "73d39607",
   "metadata": {},
   "outputs": [
    {
     "data": {
      "text/plain": [
       "4"
      ]
     },
     "execution_count": 298,
     "metadata": {},
     "output_type": "execute_result"
    }
   ],
   "source": [
    "from sklearn.neighbors import NearestNeighbors\n",
    "nbrs = NearestNeighbors(n_neighbors=6, algorithm='ball_tree').fit(one_hot_encodings)\n",
    "distances, indices = nbrs.kneighbors(one_hot_encodings)\n",
    "\n",
    "get_index_from_name('peach milk soft creme 150g')\n"
   ]
  },
  {
   "cell_type": "code",
   "execution_count": 299,
   "id": "2c86fab3",
   "metadata": {},
   "outputs": [],
   "source": [
    "# finding the closes data points\n",
    "def recs_nn(query=None,id=None):\n",
    "    if id:\n",
    "        for id in indices[id][1:]:\n",
    "            print(anime.ix[id][\"name\"])\n",
    "    if query:\n",
    "        found_id = get_index_from_name(query)\n",
    "        for id in indices[found_id][1:]:\n",
    "            print(index2prod(id))"
   ]
  },
  {
   "cell_type": "markdown",
   "id": "f5e79c5f",
   "metadata": {},
   "source": [
    "## Cosine Similarity"
   ]
  },
  {
   "cell_type": "code",
   "execution_count": 300,
   "id": "d032f52f",
   "metadata": {},
   "outputs": [],
   "source": [
    "# utility functions\n",
    "def name2index(name):\n",
    "    return df2[df2[\"name\"]==name].index.tolist()[0]\n",
    "\n",
    "def index2prod(index):\n",
    "    return df2.iloc[index]"
   ]
  },
  {
   "cell_type": "code",
   "execution_count": 301,
   "id": "a6f55dab",
   "metadata": {},
   "outputs": [],
   "source": [
    "# recommend top 10 similar items from a category\n",
    "def recs_cs(vector = None, name = None, label = None, count = 5):\n",
    "    if name:\n",
    "        idx = name2index(name)\n",
    "        fv = one_hot_encodings[idx]\n",
    "    elif vector:\n",
    "        fv = vector\n",
    "    cs_values = cosine_similarity(np.array([fv, ]), one_hot_encodings)\n",
    "    df2['cs'] = cs_values[0]\n",
    "    dff = df2\n",
    "    if label:\n",
    "        dff = df2[df2['label'] == label]\n",
    "    if name:\n",
    "        dff = dff[dff['name'] != name]\n",
    "    recommendations = dff.sort_values('cs', ascending=False).head(count)\n",
    "    print(f\"Top {count} matching {label} items\")\n",
    "    return recommendations[['label', 'brand', 'concern', 'cs']]"
   ]
  },
  {
   "cell_type": "code",
   "execution_count": 302,
   "id": "e332e04a",
   "metadata": {},
   "outputs": [],
   "source": [
    "# overall recommendation\n",
    "def recs_essentials(vector = None, name = None):\n",
    "    print(\"ESSENTIALS:\")\n",
    "    for label in LABELS:\n",
    "        print(f\"{label}:\")\n",
    "        if name: \n",
    "            print(recs_cs(None, name, label))\n",
    "        elif vector:\n",
    "            print(recs_cs(vector, None, label))        "
   ]
  },
  {
   "cell_type": "code",
   "execution_count": 303,
   "id": "fc00273f",
   "metadata": {},
   "outputs": [
    {
     "name": "stdout",
     "output_type": "stream",
     "text": [
      "ESSENTIALS:\n",
      "face-moisturisers:\n",
      "Top 5 matching face-moisturisers items\n",
      "                 label              brand  \\\n",
      "118  face-moisturisers  azani active care   \n",
      "151  face-moisturisers          mamaearth   \n",
      "141  face-moisturisers            garnier   \n",
      "194  face-moisturisers           biotique   \n",
      "227  face-moisturisers          innisfree   \n",
      "\n",
      "                                       concern        cs  \n",
      "118  deep nourishment,acne,blemishes,dull skin  0.801784  \n",
      "151      acne,blemishes,pigmentation,dull skin  0.750000  \n",
      "141                           acne,blemishes,,  0.721688  \n",
      "194       uneven skin tone,dull skin,hydration  0.721688  \n",
      "227         sun protection,dull skin,hydration  0.721688  \n",
      "cleanser:\n",
      "Top 5 matching cleanser items\n",
      "        label             brand  \\\n",
      "462  cleanser        just herbs   \n",
      "298  cleanser          biotique   \n",
      "305  cleanser          biotique   \n",
      "358  cleanser  wow skin science   \n",
      "314  cleanser  wow skin science   \n",
      "\n",
      "                                            concern        cs  \n",
      "462           dull skin,general care,acne,blemishes  0.801784  \n",
      "298              acne,blemishes,dull skin,dull skin  0.801784  \n",
      "305              acne,blemishes,dull skin,dull skin  0.801784  \n",
      "358           acne,blemishes,dull skin,pigmentation  0.750000  \n",
      "314  anti-pollution,deep nourishment,acne,blemishes  0.721688  \n",
      "mask-and-peel:\n",
      "Top 5 matching mask-and-peel items\n",
      "             label       brand  \\\n",
      "627  mask-and-peel   nutriglow   \n",
      "732  mask-and-peel     casmara   \n",
      "849  mask-and-peel   nutriglow   \n",
      "766  mask-and-peel  good vibes   \n",
      "801  mask-and-peel   nutriglow   \n",
      "\n",
      "                                            concern        cs  \n",
      "627       acne,blemishes,dull skin,deep nourishment  0.801784  \n",
      "732  acne,blemishes,dull skin,softening,smoothening  0.801784  \n",
      "849       acne,blemishes,dull skin,deep nourishment  0.801784  \n",
      "766            dull skin,tan removal,acne,blemishes  0.801784  \n",
      "801       acne,blemishes,dull skin,deep nourishment  0.801784  \n",
      "eye-cream:\n",
      "Top 5 matching eye-cream items\n",
      "          label          brand                 concern        cs\n",
      "898   eye-cream  the face shop       dryness,eye bags,  0.721688\n",
      "1009  eye-cream    yves rocher       dryness,eye bags,  0.721688\n",
      "913   eye-cream       biotique  dark circles,eye bags,  0.668153\n",
      "986   eye-cream    bioayurveda  dark circles,eye bags,  0.668153\n",
      "900   eye-cream           plum  dark circles,eye bags,  0.668153\n"
     ]
    }
   ],
   "source": [
    "# features = ['normal','dry','oily','combination', 'acne','sensitive','fine lines', 'wrinkles', 'redness', 'dull', 'pore ', 'pigmentation', 'blackheads','whiteheads', 'blemishes', 'dark circles', 'eye bags', 'dark spots']\n",
    "x = [1,1,1,1,0,1,0,0,0,1,0,0,0,0,1,0,1,0]\n",
    "\n",
    "recs_essentials(x, None)"
   ]
  },
  {
   "cell_type": "markdown",
   "id": "d02c490c",
   "metadata": {},
   "source": [
    "## Makeup Items"
   ]
  },
  {
   "cell_type": "code",
   "execution_count": 304,
   "id": "432359f9",
   "metadata": {},
   "outputs": [
    {
     "name": "stdout",
     "output_type": "stream",
     "text": [
      "<class 'pandas.core.frame.DataFrame'>\n",
      "RangeIndex: 790 entries, 0 to 789\n",
      "Data columns (total 13 columns):\n",
      " #   Column          Non-Null Count  Dtype  \n",
      "---  ------          --------------  -----  \n",
      " 0   label           790 non-null    object \n",
      " 1   url             790 non-null    object \n",
      " 2   brand           790 non-null    object \n",
      " 3   name            790 non-null    object \n",
      " 4   price           790 non-null    object \n",
      " 5   skin type       443 non-null    object \n",
      " 6   skin tone       494 non-null    object \n",
      " 7   spf             108 non-null    object \n",
      " 8   concern         379 non-null    object \n",
      " 9   concern 2       0 non-null      float64\n",
      " 10  concern 3       0 non-null      float64\n",
      " 11  key ingredient  118 non-null    object \n",
      " 12  formulation     786 non-null    object \n",
      "dtypes: float64(2), object(11)\n",
      "memory usage: 80.4+ KB\n"
     ]
    }
   ],
   "source": [
    "# info\n",
    "makeup.info()"
   ]
  },
  {
   "cell_type": "code",
   "execution_count": 305,
   "id": "75d192c9",
   "metadata": {},
   "outputs": [],
   "source": [
    "makeup.drop(columns = ['concern 2', 'concern 3', 'key ingredient', 'formulation', 'spf', 'concern'], inplace = True)"
   ]
  },
  {
   "cell_type": "code",
   "execution_count": 306,
   "id": "f69e8e0c",
   "metadata": {},
   "outputs": [
    {
     "data": {
      "text/plain": [
       "label          0\n",
       "url            0\n",
       "brand          0\n",
       "name           0\n",
       "price          0\n",
       "skin type    347\n",
       "skin tone    296\n",
       "dtype: int64"
      ]
     },
     "execution_count": 306,
     "metadata": {},
     "output_type": "execute_result"
    }
   ],
   "source": [
    "makeup.isna().sum()"
   ]
  },
  {
   "cell_type": "code",
   "execution_count": 307,
   "id": "de02a336",
   "metadata": {},
   "outputs": [],
   "source": [
    "makeup.dropna(subset=['skin tone'], inplace=True)\n"
   ]
  },
  {
   "cell_type": "code",
   "execution_count": 314,
   "id": "41c8b4b7",
   "metadata": {},
   "outputs": [
    {
     "data": {
      "text/plain": [
       "All            73\n",
       "Normal         31\n",
       "Oily            7\n",
       "Combination     3\n",
       "Dry             1\n",
       "Name: skin type, dtype: int64"
      ]
     },
     "execution_count": 314,
     "metadata": {},
     "output_type": "execute_result"
    }
   ],
   "source": [
    "makeup[makeup['label'] == 'foundation']['skin type'].value_counts()"
   ]
  },
  {
   "cell_type": "code",
   "execution_count": 317,
   "id": "d44046da",
   "metadata": {},
   "outputs": [
    {
     "data": {
      "text/plain": [
       "82"
      ]
     },
     "execution_count": 317,
     "metadata": {},
     "output_type": "execute_result"
    }
   ],
   "source": [
    "makeup[makeup['label'] == 'foundation']['skin type'].isna().sum()"
   ]
  },
  {
   "cell_type": "code",
   "execution_count": 318,
   "id": "04d3e93b",
   "metadata": {},
   "outputs": [
    {
     "data": {
      "text/plain": [
       "53"
      ]
     },
     "execution_count": 318,
     "metadata": {},
     "output_type": "execute_result"
    }
   ],
   "source": [
    "makeup[makeup['label'] == 'primer']['skin type'].isna().sum()"
   ]
  },
  {
   "cell_type": "code",
   "execution_count": 315,
   "id": "12a53f49",
   "metadata": {},
   "outputs": [
    {
     "data": {
      "text/plain": [
       "All            66\n",
       "Normal         53\n",
       "Oily           10\n",
       "Combination     1\n",
       "Name: skin type, dtype: int64"
      ]
     },
     "execution_count": 315,
     "metadata": {},
     "output_type": "execute_result"
    }
   ],
   "source": [
    "makeup[makeup['label'] == 'primer']['skin type'].value_counts()"
   ]
  },
  {
   "cell_type": "code",
   "execution_count": 319,
   "id": "210fdf57",
   "metadata": {},
   "outputs": [
    {
     "data": {
      "text/plain": [
       "70"
      ]
     },
     "execution_count": 319,
     "metadata": {},
     "output_type": "execute_result"
    }
   ],
   "source": [
    "makeup[makeup['label'] == 'concealer']['skin type'].isna().sum()"
   ]
  },
  {
   "cell_type": "code",
   "execution_count": 321,
   "id": "f1f5adf4",
   "metadata": {},
   "outputs": [
    {
     "data": {
      "text/plain": [
       "All            32\n",
       "Normal         11\n",
       "Combination     1\n",
       "Name: skin type, dtype: int64"
      ]
     },
     "execution_count": 321,
     "metadata": {},
     "output_type": "execute_result"
    }
   ],
   "source": [
    "makeup[makeup['label'] == 'concealer']['skin type'].value_counts()"
   ]
  },
  {
   "cell_type": "code",
   "execution_count": 322,
   "id": "f8c0c989",
   "metadata": {},
   "outputs": [],
   "source": [
    "makeup['skin type'].fillna('All', inplace = True)"
   ]
  },
  {
   "cell_type": "code",
   "execution_count": 327,
   "id": "15bfed55",
   "metadata": {},
   "outputs": [],
   "source": [
    "makeup['brand'] = makeup['brand'].str.lower()\n",
    "makeup['name'] = makeup['name'].str.lower()\n",
    "makeup['skin type'] = makeup['skin type'].str.lower()\n",
    "makeup['skin tone'] = makeup['skin tone'].str.lower()\n"
   ]
  },
  {
   "cell_type": "code",
   "execution_count": 341,
   "id": "451dab55",
   "metadata": {},
   "outputs": [],
   "source": [
    "def makeup_recommendation(skin_tone, skin_type):\n",
    "    \n",
    "    dff = pd.DataFrame()\n",
    "    dff = dff.append(makeup[(makeup['skin tone'] == skin_tone) & (makeup['skin type'] == skin_type) & (makeup['label'] == 'foundation')].head(2))\n",
    "    dff = dff.append(makeup[(makeup['skin tone'] == skin_tone) & (makeup['skin type'] == skin_type) & (makeup['label'] == 'concealer')].head(2))\n",
    "    dff = dff.append(makeup[(makeup['skin tone'] == skin_tone) & (makeup['skin type'] == skin_type) & (makeup['label'] == 'primer')].head(2))\n",
    "    dff= dff.sample(frac = 1)\n",
    "    return dff\n",
    "\n"
   ]
  },
  {
   "cell_type": "code",
   "execution_count": 342,
   "id": "ea47ecdc",
   "metadata": {},
   "outputs": [
    {
     "data": {
      "text/html": [
       "<div>\n",
       "<style scoped>\n",
       "    .dataframe tbody tr th:only-of-type {\n",
       "        vertical-align: middle;\n",
       "    }\n",
       "\n",
       "    .dataframe tbody tr th {\n",
       "        vertical-align: top;\n",
       "    }\n",
       "\n",
       "    .dataframe thead th {\n",
       "        text-align: right;\n",
       "    }\n",
       "</style>\n",
       "<table border=\"1\" class=\"dataframe\">\n",
       "  <thead>\n",
       "    <tr style=\"text-align: right;\">\n",
       "      <th></th>\n",
       "      <th>label</th>\n",
       "      <th>url</th>\n",
       "      <th>brand</th>\n",
       "      <th>name</th>\n",
       "      <th>price</th>\n",
       "      <th>skin type</th>\n",
       "      <th>skin tone</th>\n",
       "    </tr>\n",
       "  </thead>\n",
       "  <tbody>\n",
       "    <tr>\n",
       "      <th>274</th>\n",
       "      <td>foundation</td>\n",
       "      <td>https://www.myntra.com/foundation-and-primer/m...</td>\n",
       "      <td>miss claire</td>\n",
       "      <td>professional stick foundation - fs27</td>\n",
       "      <td>₹ 675</td>\n",
       "      <td>all</td>\n",
       "      <td>dark to deep</td>\n",
       "    </tr>\n",
       "    <tr>\n",
       "      <th>568</th>\n",
       "      <td>concealer</td>\n",
       "      <td>https://www.myntra.com/concealer/lakme/lakme-a...</td>\n",
       "      <td>lakme</td>\n",
       "      <td>absolute mattreal mousse concealer - caramel 0...</td>\n",
       "      <td>₹ 510</td>\n",
       "      <td>all</td>\n",
       "      <td>dark to deep</td>\n",
       "    </tr>\n",
       "    <tr>\n",
       "      <th>46</th>\n",
       "      <td>primer</td>\n",
       "      <td>https://www.myntra.com/foundation-and-primer/m...</td>\n",
       "      <td>myglamm</td>\n",
       "      <td>tinted perfection brightening banana primer</td>\n",
       "      <td>₹ 876</td>\n",
       "      <td>all</td>\n",
       "      <td>dark to deep</td>\n",
       "    </tr>\n",
       "    <tr>\n",
       "      <th>557</th>\n",
       "      <td>concealer</td>\n",
       "      <td>https://www.myntra.com/concealer/maybelline/ma...</td>\n",
       "      <td>maybelline</td>\n",
       "      <td>new york fit me concealer - caramel 40 6.8 ml</td>\n",
       "      <td>₹ 332</td>\n",
       "      <td>all</td>\n",
       "      <td>dark to deep</td>\n",
       "    </tr>\n",
       "    <tr>\n",
       "      <th>228</th>\n",
       "      <td>foundation</td>\n",
       "      <td>https://www.myntra.com/foundation-and-primer/m...</td>\n",
       "      <td>miss claire</td>\n",
       "      <td>professional stick foundation - ng1</td>\n",
       "      <td>₹ 472</td>\n",
       "      <td>all</td>\n",
       "      <td>dark to deep</td>\n",
       "    </tr>\n",
       "  </tbody>\n",
       "</table>\n",
       "</div>"
      ],
      "text/plain": [
       "          label                                                url  \\\n",
       "274  foundation  https://www.myntra.com/foundation-and-primer/m...   \n",
       "568   concealer  https://www.myntra.com/concealer/lakme/lakme-a...   \n",
       "46       primer  https://www.myntra.com/foundation-and-primer/m...   \n",
       "557   concealer  https://www.myntra.com/concealer/maybelline/ma...   \n",
       "228  foundation  https://www.myntra.com/foundation-and-primer/m...   \n",
       "\n",
       "           brand                                               name  price  \\\n",
       "274  miss claire               professional stick foundation - fs27  ₹ 675   \n",
       "568        lakme  absolute mattreal mousse concealer - caramel 0...  ₹ 510   \n",
       "46       myglamm        tinted perfection brightening banana primer  ₹ 876   \n",
       "557   maybelline      new york fit me concealer - caramel 40 6.8 ml  ₹ 332   \n",
       "228  miss claire                professional stick foundation - ng1  ₹ 472   \n",
       "\n",
       "    skin type     skin tone  \n",
       "274       all  dark to deep  \n",
       "568       all  dark to deep  \n",
       "46        all  dark to deep  \n",
       "557       all  dark to deep  \n",
       "228       all  dark to deep  "
      ]
     },
     "execution_count": 342,
     "metadata": {},
     "output_type": "execute_result"
    }
   ],
   "source": [
    "makeup_recommendation('dark to deep', 'all')"
   ]
  },
  {
   "cell_type": "code",
   "execution_count": null,
   "id": "50a3eab2",
   "metadata": {},
   "outputs": [],
   "source": []
  },
  {
   "cell_type": "code",
   "execution_count": null,
   "id": "41ce1ff2",
   "metadata": {},
   "outputs": [],
   "source": []
  }
 ],
 "metadata": {
  "kernelspec": {
   "display_name": "Python 3",
   "language": "python",
   "name": "python3"
  },
  "language_info": {
   "codemirror_mode": {
    "name": "ipython",
    "version": 3
   },
   "file_extension": ".py",
   "mimetype": "text/x-python",
   "name": "python",
   "nbconvert_exporter": "python",
   "pygments_lexer": "ipython3",
   "version": "3.9.3"
  }
 },
 "nbformat": 4,
 "nbformat_minor": 5
}
