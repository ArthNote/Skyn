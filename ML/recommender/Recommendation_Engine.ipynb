{
 "cells": [
  {
   "cell_type": "markdown",
   "id": "6211de19",
   "metadata": {},
   "source": [
    "# Skincare Recommendation Engine\n"
   ]
  },
  {
   "cell_type": "markdown",
   "id": "c3e146c2",
   "metadata": {},
   "source": [
    "This notebook walks you through the development of a content-based recommendation engine that should take a list of skin metrics/concerns (skin type, tone, acne, blemishes, redness, etc) as input and return several products that might suit the user's skin. "
   ]
  },
  {
   "cell_type": "code",
   "execution_count": 93,
   "id": "e02d4282",
   "metadata": {},
   "outputs": [],
   "source": [
    "import numpy as np \n",
    "import pandas as pd\n",
    "from sklearn.metrics.pairwise import cosine_similarity\n",
    "import heapq\n"
   ]
  },
  {
   "cell_type": "code",
   "execution_count": 94,
   "id": "f2339cd0",
   "metadata": {},
   "outputs": [],
   "source": [
    "# 'essentials' implies essential facial skincare products\n",
    "df = pd.read_csv('result.csv')\n",
    "makeup = pd.read_csv('result2.csv')"
   ]
  },
  {
   "cell_type": "code",
   "execution_count": 95,
   "id": "5c62b323",
   "metadata": {},
   "outputs": [
    {
     "data": {
      "text/html": [
       "<div>\n",
       "<style scoped>\n",
       "    .dataframe tbody tr th:only-of-type {\n",
       "        vertical-align: middle;\n",
       "    }\n",
       "\n",
       "    .dataframe tbody tr th {\n",
       "        vertical-align: top;\n",
       "    }\n",
       "\n",
       "    .dataframe thead th {\n",
       "        text-align: right;\n",
       "    }\n",
       "</style>\n",
       "<table border=\"1\" class=\"dataframe\">\n",
       "  <thead>\n",
       "    <tr style=\"text-align: right;\">\n",
       "      <th></th>\n",
       "      <th>label</th>\n",
       "      <th>url</th>\n",
       "      <th>brand</th>\n",
       "      <th>name</th>\n",
       "      <th>price</th>\n",
       "      <th>skin type</th>\n",
       "      <th>spf</th>\n",
       "      <th>concern</th>\n",
       "      <th>concern 2</th>\n",
       "      <th>concern 3</th>\n",
       "      <th>key ingredient</th>\n",
       "      <th>formulation</th>\n",
       "    </tr>\n",
       "  </thead>\n",
       "  <tbody>\n",
       "    <tr>\n",
       "      <th>0</th>\n",
       "      <td>face-moisturisers</td>\n",
       "      <td>https://www.myntra.com/face-moisturisers/lakme...</td>\n",
       "      <td>Lakme</td>\n",
       "      <td>Absolute Perfect Radiance Skin Lightening Day ...</td>\n",
       "      <td>₹ 79</td>\n",
       "      <td>All</td>\n",
       "      <td>NaN</td>\n",
       "      <td>General Care</td>\n",
       "      <td>NaN</td>\n",
       "      <td>NaN</td>\n",
       "      <td>NaN</td>\n",
       "      <td>Cream</td>\n",
       "    </tr>\n",
       "    <tr>\n",
       "      <th>1</th>\n",
       "      <td>face-moisturisers</td>\n",
       "      <td>https://www.myntra.com/face-moisturisers/bioti...</td>\n",
       "      <td>Biotique</td>\n",
       "      <td>Bio Morning Nectar Flawless Sustainable Skin M...</td>\n",
       "      <td>₹ 165</td>\n",
       "      <td>All</td>\n",
       "      <td>NaN</td>\n",
       "      <td>Uneven Skin Tone</td>\n",
       "      <td>Hydration</td>\n",
       "      <td>Dark Spots</td>\n",
       "      <td>Honey</td>\n",
       "      <td>Lotion</td>\n",
       "    </tr>\n",
       "    <tr>\n",
       "      <th>2</th>\n",
       "      <td>face-moisturisers</td>\n",
       "      <td>https://www.myntra.com/face-moisturisers/nivea...</td>\n",
       "      <td>Nivea</td>\n",
       "      <td>Unisex Aloe Hydration Skin Cream 100 ml</td>\n",
       "      <td>₹ 92</td>\n",
       "      <td>All</td>\n",
       "      <td>NaN</td>\n",
       "      <td>Dull Skin</td>\n",
       "      <td>Dryness</td>\n",
       "      <td>General Care</td>\n",
       "      <td>Aloe Vera</td>\n",
       "      <td>Cream</td>\n",
       "    </tr>\n",
       "    <tr>\n",
       "      <th>3</th>\n",
       "      <td>face-moisturisers</td>\n",
       "      <td>https://www.myntra.com/face-moisturisers/vi-jo...</td>\n",
       "      <td>VI-JOHN</td>\n",
       "      <td>Women Set of 5 Saffron Fairness Cream Advanced</td>\n",
       "      <td>₹ 187</td>\n",
       "      <td>All</td>\n",
       "      <td>15 to 30</td>\n",
       "      <td>Softening and Smoothening</td>\n",
       "      <td>Softening and Smoothening</td>\n",
       "      <td>Sun Protection</td>\n",
       "      <td>Vitamin E</td>\n",
       "      <td>Cream</td>\n",
       "    </tr>\n",
       "    <tr>\n",
       "      <th>4</th>\n",
       "      <td>face-moisturisers</td>\n",
       "      <td>https://www.myntra.com/face-moisturisers/lakme...</td>\n",
       "      <td>Lakme</td>\n",
       "      <td>Peach Milk Soft Creme 150g</td>\n",
       "      <td>₹ 192</td>\n",
       "      <td>All</td>\n",
       "      <td>NaN</td>\n",
       "      <td>General Care</td>\n",
       "      <td>NaN</td>\n",
       "      <td>NaN</td>\n",
       "      <td>NaN</td>\n",
       "      <td>Cream</td>\n",
       "    </tr>\n",
       "  </tbody>\n",
       "</table>\n",
       "</div>"
      ],
      "text/plain": [
       "               label                                                url  \\\n",
       "0  face-moisturisers  https://www.myntra.com/face-moisturisers/lakme...   \n",
       "1  face-moisturisers  https://www.myntra.com/face-moisturisers/bioti...   \n",
       "2  face-moisturisers  https://www.myntra.com/face-moisturisers/nivea...   \n",
       "3  face-moisturisers  https://www.myntra.com/face-moisturisers/vi-jo...   \n",
       "4  face-moisturisers  https://www.myntra.com/face-moisturisers/lakme...   \n",
       "\n",
       "      brand                                               name  price  \\\n",
       "0     Lakme  Absolute Perfect Radiance Skin Lightening Day ...   ₹ 79   \n",
       "1  Biotique  Bio Morning Nectar Flawless Sustainable Skin M...  ₹ 165   \n",
       "2     Nivea            Unisex Aloe Hydration Skin Cream 100 ml   ₹ 92   \n",
       "3   VI-JOHN     Women Set of 5 Saffron Fairness Cream Advanced  ₹ 187   \n",
       "4     Lakme                         Peach Milk Soft Creme 150g  ₹ 192   \n",
       "\n",
       "  skin type       spf                    concern                  concern 2  \\\n",
       "0       All       NaN               General Care                        NaN   \n",
       "1       All       NaN           Uneven Skin Tone                  Hydration   \n",
       "2       All       NaN                  Dull Skin                    Dryness   \n",
       "3       All  15 to 30  Softening and Smoothening  Softening and Smoothening   \n",
       "4       All       NaN               General Care                        NaN   \n",
       "\n",
       "        concern 3 key ingredient formulation  \n",
       "0             NaN            NaN       Cream  \n",
       "1      Dark Spots          Honey      Lotion  \n",
       "2    General Care      Aloe Vera       Cream  \n",
       "3  Sun Protection      Vitamin E       Cream  \n",
       "4             NaN            NaN       Cream  "
      ]
     },
     "execution_count": 95,
     "metadata": {},
     "output_type": "execute_result"
    }
   ],
   "source": [
    "df.head()"
   ]
  },
  {
   "cell_type": "code",
   "execution_count": 96,
   "id": "17bac683",
   "metadata": {},
   "outputs": [
    {
     "data": {
      "text/html": [
       "<div>\n",
       "<style scoped>\n",
       "    .dataframe tbody tr th:only-of-type {\n",
       "        vertical-align: middle;\n",
       "    }\n",
       "\n",
       "    .dataframe tbody tr th {\n",
       "        vertical-align: top;\n",
       "    }\n",
       "\n",
       "    .dataframe thead th {\n",
       "        text-align: right;\n",
       "    }\n",
       "</style>\n",
       "<table border=\"1\" class=\"dataframe\">\n",
       "  <thead>\n",
       "    <tr style=\"text-align: right;\">\n",
       "      <th></th>\n",
       "      <th>label</th>\n",
       "      <th>url</th>\n",
       "      <th>brand</th>\n",
       "      <th>name</th>\n",
       "      <th>price</th>\n",
       "      <th>skin type</th>\n",
       "      <th>skin tone</th>\n",
       "      <th>spf</th>\n",
       "      <th>concern</th>\n",
       "      <th>concern 2</th>\n",
       "      <th>concern 3</th>\n",
       "      <th>key ingredient</th>\n",
       "      <th>formulation</th>\n",
       "    </tr>\n",
       "  </thead>\n",
       "  <tbody>\n",
       "    <tr>\n",
       "      <th>0</th>\n",
       "      <td>primer</td>\n",
       "      <td>https://www.myntra.com/foundation-and-primer/l...</td>\n",
       "      <td>Lakme</td>\n",
       "      <td>Absolute Blur Perfect Makeup Primer - Mini 10g</td>\n",
       "      <td>₹ 254</td>\n",
       "      <td>All</td>\n",
       "      <td>Light to Medium</td>\n",
       "      <td>NaN</td>\n",
       "      <td>Brightening</td>\n",
       "      <td>NaN</td>\n",
       "      <td>NaN</td>\n",
       "      <td>NaN</td>\n",
       "      <td>Gel</td>\n",
       "    </tr>\n",
       "    <tr>\n",
       "      <th>1</th>\n",
       "      <td>primer</td>\n",
       "      <td>https://www.myntra.com/foundation-and-primer/c...</td>\n",
       "      <td>Colorbar</td>\n",
       "      <td>Perfect Match Primer 30 ml</td>\n",
       "      <td>₹ 595</td>\n",
       "      <td>NaN</td>\n",
       "      <td>NaN</td>\n",
       "      <td>NaN</td>\n",
       "      <td>Dullness</td>\n",
       "      <td>NaN</td>\n",
       "      <td>NaN</td>\n",
       "      <td>Vitamin E</td>\n",
       "      <td>Cream</td>\n",
       "    </tr>\n",
       "    <tr>\n",
       "      <th>2</th>\n",
       "      <td>primer</td>\n",
       "      <td>https://www.myntra.com/foundation-and-primer/w...</td>\n",
       "      <td>Wet n Wild</td>\n",
       "      <td>Sustainable Photo Focus Natural Finish Setting...</td>\n",
       "      <td>₹ 454</td>\n",
       "      <td>Normal</td>\n",
       "      <td>Light to Medium</td>\n",
       "      <td>NaN</td>\n",
       "      <td>NaN</td>\n",
       "      <td>NaN</td>\n",
       "      <td>NaN</td>\n",
       "      <td>NaN</td>\n",
       "      <td>Spray</td>\n",
       "    </tr>\n",
       "    <tr>\n",
       "      <th>3</th>\n",
       "      <td>primer</td>\n",
       "      <td>https://www.myntra.com/foundation-and-primer/m...</td>\n",
       "      <td>M.A.C</td>\n",
       "      <td>Mini Prep+Prime Fix+ 30 ml</td>\n",
       "      <td>₹ 1200</td>\n",
       "      <td>NaN</td>\n",
       "      <td>NaN</td>\n",
       "      <td>NaN</td>\n",
       "      <td>Dryness</td>\n",
       "      <td>NaN</td>\n",
       "      <td>NaN</td>\n",
       "      <td>Vitamin E</td>\n",
       "      <td>Spray</td>\n",
       "    </tr>\n",
       "    <tr>\n",
       "      <th>4</th>\n",
       "      <td>primer</td>\n",
       "      <td>https://www.myntra.com/foundation-and-primer/w...</td>\n",
       "      <td>Wet n Wild</td>\n",
       "      <td>Sustainable Photo Focus Matte Face Primer - Pa...</td>\n",
       "      <td>₹ 454</td>\n",
       "      <td>Normal</td>\n",
       "      <td>Light to Medium</td>\n",
       "      <td>NaN</td>\n",
       "      <td>NaN</td>\n",
       "      <td>NaN</td>\n",
       "      <td>NaN</td>\n",
       "      <td>NaN</td>\n",
       "      <td>Cream</td>\n",
       "    </tr>\n",
       "  </tbody>\n",
       "</table>\n",
       "</div>"
      ],
      "text/plain": [
       "    label                                                url       brand  \\\n",
       "0  primer  https://www.myntra.com/foundation-and-primer/l...       Lakme   \n",
       "1  primer  https://www.myntra.com/foundation-and-primer/c...    Colorbar   \n",
       "2  primer  https://www.myntra.com/foundation-and-primer/w...  Wet n Wild   \n",
       "3  primer  https://www.myntra.com/foundation-and-primer/m...       M.A.C   \n",
       "4  primer  https://www.myntra.com/foundation-and-primer/w...  Wet n Wild   \n",
       "\n",
       "                                                name   price skin type  \\\n",
       "0     Absolute Blur Perfect Makeup Primer - Mini 10g   ₹ 254       All   \n",
       "1                         Perfect Match Primer 30 ml   ₹ 595       NaN   \n",
       "2  Sustainable Photo Focus Natural Finish Setting...   ₹ 454    Normal   \n",
       "3                         Mini Prep+Prime Fix+ 30 ml  ₹ 1200       NaN   \n",
       "4  Sustainable Photo Focus Matte Face Primer - Pa...   ₹ 454    Normal   \n",
       "\n",
       "         skin tone  spf      concern  concern 2  concern 3 key ingredient  \\\n",
       "0  Light to Medium  NaN  Brightening        NaN        NaN            NaN   \n",
       "1              NaN  NaN     Dullness        NaN        NaN      Vitamin E   \n",
       "2  Light to Medium  NaN          NaN        NaN        NaN            NaN   \n",
       "3              NaN  NaN      Dryness        NaN        NaN      Vitamin E   \n",
       "4  Light to Medium  NaN          NaN        NaN        NaN            NaN   \n",
       "\n",
       "  formulation  \n",
       "0         Gel  \n",
       "1       Cream  \n",
       "2       Spray  \n",
       "3       Spray  \n",
       "4       Cream  "
      ]
     },
     "execution_count": 96,
     "metadata": {},
     "output_type": "execute_result"
    }
   ],
   "source": [
    "makeup.head()"
   ]
  },
  {
   "cell_type": "markdown",
   "id": "118feb49",
   "metadata": {},
   "source": [
    "## Data Preprocessing"
   ]
  },
  {
   "cell_type": "markdown",
   "id": "9d652c91",
   "metadata": {},
   "source": [
    "## Imputation of values"
   ]
  },
  {
   "cell_type": "code",
   "execution_count": 97,
   "id": "3860a004",
   "metadata": {
    "scrolled": true
   },
   "outputs": [
    {
     "data": {
      "text/plain": [
       "cleanser             300\n",
       "mask-and-peel        300\n",
       "face-moisturisers    300\n",
       "concealer            300\n",
       "foundation           300\n",
       "sunscreen            272\n",
       "Name: label, dtype: int64"
      ]
     },
     "execution_count": 97,
     "metadata": {},
     "output_type": "execute_result"
    }
   ],
   "source": [
    "df['label'].value_counts()"
   ]
  },
  {
   "cell_type": "code",
   "execution_count": 98,
   "id": "2f9db474",
   "metadata": {},
   "outputs": [
    {
     "data": {
      "text/plain": [
       "label                0\n",
       "url                  0\n",
       "brand               46\n",
       "name                46\n",
       "price               46\n",
       "skin type          309\n",
       "spf               1352\n",
       "concern            376\n",
       "concern 2         1115\n",
       "concern 3         1265\n",
       "key ingredient    1101\n",
       "formulation        384\n",
       "dtype: int64"
      ]
     },
     "execution_count": 98,
     "metadata": {},
     "output_type": "execute_result"
    }
   ],
   "source": [
    "df.isna().sum()"
   ]
  },
  {
   "cell_type": "code",
   "execution_count": 99,
   "id": "5a386d84",
   "metadata": {},
   "outputs": [],
   "source": [
    "df['concern 2'].fillna('', inplace = True)\n",
    "df['concern 3'].fillna('', inplace = True)\n",
    "df['concern'] = df['concern'] + ',' + df['concern 2'] + ',' + df['concern 3']\n"
   ]
  },
  {
   "cell_type": "code",
   "execution_count": 100,
   "id": "251108c2",
   "metadata": {},
   "outputs": [
    {
     "data": {
      "text/plain": [
       "0                                          General Care,,\n",
       "1                   Uneven Skin Tone,Hydration,Dark Spots\n",
       "2                          Dull Skin,Dryness,General Care\n",
       "3       Softening and Smoothening,Softening and Smooth...\n",
       "4                                          General Care,,\n",
       "                              ...                        \n",
       "1767                                         Waterproof,,\n",
       "1768                                                  NaN\n",
       "1769                                                  NaN\n",
       "1770                                        Oil Control,,\n",
       "1771                                         Waterproof,,\n",
       "Name: concern, Length: 1772, dtype: object"
      ]
     },
     "execution_count": 100,
     "metadata": {},
     "output_type": "execute_result"
    }
   ],
   "source": [
    "df['concern']"
   ]
  },
  {
   "cell_type": "code",
   "execution_count": 101,
   "id": "857ab1c2",
   "metadata": {},
   "outputs": [
    {
     "data": {
      "text/plain": [
       "Sun Protection,,                              202\n",
       "Dark Spots,,                                   81\n",
       "General Care,,                                 68\n",
       "Waterproof,,                                   43\n",
       "Acne or Blemishes,,                            41\n",
       "                                             ... \n",
       "Oily Skin,Uneven Skin Tone,Hydration            1\n",
       "Fine Lines and Wrinkles,Acne or Blemishes,      1\n",
       "Pore Care,Dryness,Daily Use                     1\n",
       "Redness,Dryness,Uneven Skin Tone                1\n",
       "Hydration,Dryness,Acne or Blemishes             1\n",
       "Name: concern, Length: 420, dtype: int64"
      ]
     },
     "execution_count": 101,
     "metadata": {},
     "output_type": "execute_result"
    }
   ],
   "source": [
    "df.drop(columns=['concern 2', 'concern 3', 'spf', 'key ingredient', 'formulation'], inplace = True)\n",
    "df['concern'].value_counts()"
   ]
  },
  {
   "cell_type": "code",
   "execution_count": 102,
   "id": "e8770c2a",
   "metadata": {},
   "outputs": [],
   "source": [
    "df2 = df[((df['label'] == 'face-moisturisers') | (df['label'] == 'mask-and-peel') | (df['label'] == 'cleanser') | (df['label'] == 'eye-cream'))]\n",
    "df2\n",
    "LABELS = list(df2.label.unique())"
   ]
  },
  {
   "cell_type": "code",
   "execution_count": 103,
   "id": "8d66115c",
   "metadata": {
    "scrolled": true
   },
   "outputs": [
    {
     "name": "stdout",
     "output_type": "stream",
     "text": [
      "<class 'pandas.core.frame.DataFrame'>\n",
      "Int64Index: 867 entries, 0 to 866\n",
      "Data columns (total 7 columns):\n",
      " #   Column     Non-Null Count  Dtype \n",
      "---  ------     --------------  ----- \n",
      " 0   label      867 non-null    object\n",
      " 1   url        867 non-null    object\n",
      " 2   brand      867 non-null    object\n",
      " 3   name       867 non-null    object\n",
      " 4   price      867 non-null    object\n",
      " 5   skin type  867 non-null    object\n",
      " 6   concern    843 non-null    object\n",
      "dtypes: object(7)\n",
      "memory usage: 54.2+ KB\n"
     ]
    }
   ],
   "source": [
    "df2 = df2[df2['skin type'].isna() == False]\n",
    "df2.index = [i for i in range(0, len(df2))]\n",
    "df2.info()"
   ]
  },
  {
   "cell_type": "code",
   "execution_count": 104,
   "id": "7721054c",
   "metadata": {},
   "outputs": [
    {
     "data": {
      "text/plain": [
       "face-moisturisers    10\n",
       "mask-and-peel         9\n",
       "cleanser              5\n",
       "Name: label, dtype: int64"
      ]
     },
     "execution_count": 104,
     "metadata": {},
     "output_type": "execute_result"
    }
   ],
   "source": [
    "df2[df2['concern'].isna() == True]['label'].value_counts()"
   ]
  },
  {
   "cell_type": "code",
   "execution_count": 105,
   "id": "be8a25ec",
   "metadata": {},
   "outputs": [
    {
     "data": {
      "text/plain": [
       "Series([], Name: concern, dtype: int64)"
      ]
     },
     "execution_count": 105,
     "metadata": {},
     "output_type": "execute_result"
    }
   ],
   "source": [
    "df2[df2['label'] ==  'eye-cream']['concern'].value_counts()"
   ]
  },
  {
   "cell_type": "code",
   "execution_count": 106,
   "id": "fce3fe39",
   "metadata": {},
   "outputs": [
    {
     "data": {
      "text/plain": [
       "Series([], Name: concern, dtype: int64)"
      ]
     },
     "execution_count": 106,
     "metadata": {},
     "output_type": "execute_result"
    }
   ],
   "source": [
    "df2['concern'] = df2['concern'].str.lower()\n",
    "# df2[df2['label'] == 'face-moisturisers']['concern'].value_counts()\n",
    "# df2[df2['label'] == 'mask-and-peel']['concern'].value_counts()\n",
    "df2[df2['label'] == 'sunscreen']['concern'].value_counts()\n",
    "\n"
   ]
  },
  {
   "cell_type": "code",
   "execution_count": 107,
   "id": "26c66535",
   "metadata": {},
   "outputs": [
    {
     "name": "stdout",
     "output_type": "stream",
     "text": [
      "<class 'pandas.core.frame.DataFrame'>\n",
      "Int64Index: 867 entries, 0 to 866\n",
      "Data columns (total 7 columns):\n",
      " #   Column     Non-Null Count  Dtype \n",
      "---  ------     --------------  ----- \n",
      " 0   label      867 non-null    object\n",
      " 1   url        867 non-null    object\n",
      " 2   brand      867 non-null    object\n",
      " 3   name       867 non-null    object\n",
      " 4   price      867 non-null    object\n",
      " 5   skin type  867 non-null    object\n",
      " 6   concern    867 non-null    object\n",
      "dtypes: object(7)\n",
      "memory usage: 54.2+ KB\n"
     ]
    }
   ],
   "source": [
    "top_concerns = {'face-moisturisers':'general care', 'mask-and-peel':'daily use', 'cleanser':'general care', 'eye-cream':'fine lines,wrinkles,dark circles,eye bags' }\n",
    "entries = len(df2)\n",
    "for i in range(entries):\n",
    "    label = df2.iloc[i]['label']\n",
    "    if pd.isnull(df2.iloc[i]['concern']):\n",
    "        df2.iloc[i]['concern'] = top_concerns[label]\n",
    "df2.info()\n",
    "\n",
    "    "
   ]
  },
  {
   "cell_type": "code",
   "execution_count": 138,
   "id": "45ae57db",
   "metadata": {},
   "outputs": [],
   "source": [
    "df2.to_csv('general_skincare.csv')"
   ]
  },
  {
   "cell_type": "code",
   "execution_count": 109,
   "id": "e9dd8a89",
   "metadata": {},
   "outputs": [
    {
     "data": {
      "text/html": [
       "<div>\n",
       "<style scoped>\n",
       "    .dataframe tbody tr th:only-of-type {\n",
       "        vertical-align: middle;\n",
       "    }\n",
       "\n",
       "    .dataframe tbody tr th {\n",
       "        vertical-align: top;\n",
       "    }\n",
       "\n",
       "    .dataframe thead th {\n",
       "        text-align: right;\n",
       "    }\n",
       "</style>\n",
       "<table border=\"1\" class=\"dataframe\">\n",
       "  <thead>\n",
       "    <tr style=\"text-align: right;\">\n",
       "      <th></th>\n",
       "      <th>label</th>\n",
       "      <th>url</th>\n",
       "      <th>brand</th>\n",
       "      <th>name</th>\n",
       "      <th>price</th>\n",
       "      <th>skin type</th>\n",
       "      <th>concern</th>\n",
       "    </tr>\n",
       "  </thead>\n",
       "  <tbody>\n",
       "    <tr>\n",
       "      <th>0</th>\n",
       "      <td>face-moisturisers</td>\n",
       "      <td>https://www.myntra.com/face-moisturisers/lakme...</td>\n",
       "      <td>lakme</td>\n",
       "      <td>absolute perfect radiance skin lightening day ...</td>\n",
       "      <td>₹ 79</td>\n",
       "      <td>all</td>\n",
       "      <td>general care,,</td>\n",
       "    </tr>\n",
       "    <tr>\n",
       "      <th>1</th>\n",
       "      <td>face-moisturisers</td>\n",
       "      <td>https://www.myntra.com/face-moisturisers/bioti...</td>\n",
       "      <td>biotique</td>\n",
       "      <td>bio morning nectar flawless sustainable skin m...</td>\n",
       "      <td>₹ 165</td>\n",
       "      <td>all</td>\n",
       "      <td>uneven skin tone,hydration,dark spots</td>\n",
       "    </tr>\n",
       "    <tr>\n",
       "      <th>2</th>\n",
       "      <td>face-moisturisers</td>\n",
       "      <td>https://www.myntra.com/face-moisturisers/nivea...</td>\n",
       "      <td>nivea</td>\n",
       "      <td>unisex aloe hydration skin cream 100 ml</td>\n",
       "      <td>₹ 92</td>\n",
       "      <td>all</td>\n",
       "      <td>dull skin,dryness,general care</td>\n",
       "    </tr>\n",
       "    <tr>\n",
       "      <th>3</th>\n",
       "      <td>face-moisturisers</td>\n",
       "      <td>https://www.myntra.com/face-moisturisers/vi-jo...</td>\n",
       "      <td>vi-john</td>\n",
       "      <td>women set of 5 saffron fairness cream advanced</td>\n",
       "      <td>₹ 187</td>\n",
       "      <td>all</td>\n",
       "      <td>softening,smoothening,softening,smoothening,su...</td>\n",
       "    </tr>\n",
       "    <tr>\n",
       "      <th>4</th>\n",
       "      <td>face-moisturisers</td>\n",
       "      <td>https://www.myntra.com/face-moisturisers/lakme...</td>\n",
       "      <td>lakme</td>\n",
       "      <td>peach milk soft creme 150g</td>\n",
       "      <td>₹ 192</td>\n",
       "      <td>all</td>\n",
       "      <td>general care,,</td>\n",
       "    </tr>\n",
       "    <tr>\n",
       "      <th>...</th>\n",
       "      <td>...</td>\n",
       "      <td>...</td>\n",
       "      <td>...</td>\n",
       "      <td>...</td>\n",
       "      <td>...</td>\n",
       "      <td>...</td>\n",
       "      <td>...</td>\n",
       "    </tr>\n",
       "    <tr>\n",
       "      <th>862</th>\n",
       "      <td>mask-and-peel</td>\n",
       "      <td>https://www.myntra.com/mask-and-peel/samisha/s...</td>\n",
       "      <td>samisha</td>\n",
       "      <td>vitamin c sleeping mask 50 ml</td>\n",
       "      <td>₹ 399</td>\n",
       "      <td>all</td>\n",
       "      <td>daily use,dark spots,hydration</td>\n",
       "    </tr>\n",
       "    <tr>\n",
       "      <th>863</th>\n",
       "      <td>mask-and-peel</td>\n",
       "      <td>https://www.myntra.com/mask-and-peel/mancode/m...</td>\n",
       "      <td>mancode</td>\n",
       "      <td>pack of 3 de-tan facial sheet mask 25ml each</td>\n",
       "      <td>₹ 299</td>\n",
       "      <td>all</td>\n",
       "      <td>hydration,hydration,softening,smoothening</td>\n",
       "    </tr>\n",
       "    <tr>\n",
       "      <th>864</th>\n",
       "      <td>mask-and-peel</td>\n",
       "      <td>https://www.myntra.com/mask-and-peel/masking/m...</td>\n",
       "      <td>masking</td>\n",
       "      <td>set of 5 beauty green tea facial sheet mask 100ml</td>\n",
       "      <td>₹ 333</td>\n",
       "      <td>all</td>\n",
       "      <td>daily use,hydration,anti-pollution</td>\n",
       "    </tr>\n",
       "    <tr>\n",
       "      <th>865</th>\n",
       "      <td>mask-and-peel</td>\n",
       "      <td>https://www.myntra.com/mask-and-peel/good-vibe...</td>\n",
       "      <td>good vibes</td>\n",
       "      <td>rose hydrating face mask 110 g</td>\n",
       "      <td>₹ 268</td>\n",
       "      <td>all</td>\n",
       "      <td>dull skin,softening,smoothening,hydration</td>\n",
       "    </tr>\n",
       "    <tr>\n",
       "      <th>866</th>\n",
       "      <td>mask-and-peel</td>\n",
       "      <td>https://www.myntra.com/mask-and-peel/miss-clai...</td>\n",
       "      <td>miss claire</td>\n",
       "      <td>charcoal o2 bubble purifying mask</td>\n",
       "      <td>₹ 120</td>\n",
       "      <td>all</td>\n",
       "      <td>hydration,,</td>\n",
       "    </tr>\n",
       "  </tbody>\n",
       "</table>\n",
       "<p>867 rows × 7 columns</p>\n",
       "</div>"
      ],
      "text/plain": [
       "                 label                                                url  \\\n",
       "0    face-moisturisers  https://www.myntra.com/face-moisturisers/lakme...   \n",
       "1    face-moisturisers  https://www.myntra.com/face-moisturisers/bioti...   \n",
       "2    face-moisturisers  https://www.myntra.com/face-moisturisers/nivea...   \n",
       "3    face-moisturisers  https://www.myntra.com/face-moisturisers/vi-jo...   \n",
       "4    face-moisturisers  https://www.myntra.com/face-moisturisers/lakme...   \n",
       "..                 ...                                                ...   \n",
       "862      mask-and-peel  https://www.myntra.com/mask-and-peel/samisha/s...   \n",
       "863      mask-and-peel  https://www.myntra.com/mask-and-peel/mancode/m...   \n",
       "864      mask-and-peel  https://www.myntra.com/mask-and-peel/masking/m...   \n",
       "865      mask-and-peel  https://www.myntra.com/mask-and-peel/good-vibe...   \n",
       "866      mask-and-peel  https://www.myntra.com/mask-and-peel/miss-clai...   \n",
       "\n",
       "           brand                                               name  price  \\\n",
       "0          lakme  absolute perfect radiance skin lightening day ...   ₹ 79   \n",
       "1       biotique  bio morning nectar flawless sustainable skin m...  ₹ 165   \n",
       "2          nivea            unisex aloe hydration skin cream 100 ml   ₹ 92   \n",
       "3        vi-john     women set of 5 saffron fairness cream advanced  ₹ 187   \n",
       "4          lakme                         peach milk soft creme 150g  ₹ 192   \n",
       "..           ...                                                ...    ...   \n",
       "862      samisha                      vitamin c sleeping mask 50 ml  ₹ 399   \n",
       "863      mancode       pack of 3 de-tan facial sheet mask 25ml each  ₹ 299   \n",
       "864      masking  set of 5 beauty green tea facial sheet mask 100ml  ₹ 333   \n",
       "865   good vibes                     rose hydrating face mask 110 g  ₹ 268   \n",
       "866  miss claire                  charcoal o2 bubble purifying mask  ₹ 120   \n",
       "\n",
       "    skin type                                            concern  \n",
       "0         all                                     general care,,  \n",
       "1         all              uneven skin tone,hydration,dark spots  \n",
       "2         all                     dull skin,dryness,general care  \n",
       "3         all  softening,smoothening,softening,smoothening,su...  \n",
       "4         all                                     general care,,  \n",
       "..        ...                                                ...  \n",
       "862       all                     daily use,dark spots,hydration  \n",
       "863       all          hydration,hydration,softening,smoothening  \n",
       "864       all                 daily use,hydration,anti-pollution  \n",
       "865       all          dull skin,softening,smoothening,hydration  \n",
       "866       all                                        hydration,,  \n",
       "\n",
       "[867 rows x 7 columns]"
      ]
     },
     "execution_count": 109,
     "metadata": {},
     "output_type": "execute_result"
    }
   ],
   "source": [
    "df2['brand'] = df2['brand'].str.lower()\n",
    "df2['name'] = df2['name'].str.lower()\n",
    "df2['skin type'] = df2['skin type'].str.lower()\n",
    "df2['concern'] = df2['concern'].str.replace(' and ', ',').str.replace(' or ', ',')\n",
    "df2"
   ]
  },
  {
   "cell_type": "code",
   "execution_count": 110,
   "id": "c6081aef",
   "metadata": {},
   "outputs": [],
   "source": [
    "def concern_elements(comma_sep_concerns):\n",
    "    words = comma_sep_concerns.split(',')\n",
    "    for w in words:\n",
    "        if w != '':\n",
    "            temp = w.rstrip()\n",
    "            if temp in concerns:\n",
    "                concerns[temp] += 1\n",
    "            else:\n",
    "                concerns[temp] = 1\n",
    "\n",
    "\n",
    "            \n",
    "# features\n",
    "list(df2['skin type'].unique())\n",
    "concerns = {}\n",
    "for i in range(entries):\n",
    "    concern_elements(df2.iloc[i]['concern'])\n",
    "    "
   ]
  },
  {
   "cell_type": "code",
   "execution_count": null,
   "id": "e9cb62a8",
   "metadata": {},
   "outputs": [],
   "source": []
  },
  {
   "cell_type": "code",
   "execution_count": 111,
   "id": "43bfe84f",
   "metadata": {},
   "outputs": [
    {
     "name": "stdout",
     "output_type": "stream",
     "text": [
      "[('anti acne scarring', 1), ('anti-ageing', 2), ('skin tightening', 2), ('blackheads removal', 4), ('irregular textures', 6), ('skin inflammation', 11), ('oil control', 15), ('redness', 15), ('oily skin', 16), ('skin sagging', 20), ('sun protection', 21), ('lightening', 22), ('tan removal', 48), ('anti-pollution', 60), ('blackheads', 61), ('whiteheads', 61), ('dark spots', 71), ('pigmentation', 71), ('uneven skin tone', 76), ('excess oil', 90), ('dryness', 92), ('fine lines', 95), ('wrinkles', 95), ('deep nourishment', 106), ('pore care', 110), ('smoothening', 112), ('softening', 112), ('acne', 155), ('blemishes', 155), ('hydration', 156), ('daily use', 158), ('general care', 158), ('dull skin', 166)]\n"
     ]
    }
   ],
   "source": [
    "print(sorted(concerns.items(), key =\n",
    "             lambda kv:(kv[1], kv[0])))   "
   ]
  },
  {
   "cell_type": "code",
   "execution_count": 112,
   "id": "ea53fef4",
   "metadata": {},
   "outputs": [
    {
     "data": {
      "text/plain": [
       "90"
      ]
     },
     "execution_count": 112,
     "metadata": {},
     "output_type": "execute_result"
    }
   ],
   "source": [
    "concerns.pop('anti acne scarring')\n",
    "concerns.pop('anti-ageing')\n",
    "concerns.pop('skin tightening')\n",
    "concerns.pop('blackheads removal')\n",
    "concerns.pop('irregular textures')\n",
    "concerns.pop('skin inflammation')\n",
    "concerns.pop('oil control')\n",
    "concerns.pop('redness')\n",
    "concerns.pop('oily skin')\n",
    "concerns.pop('skin sagging')\n",
    "concerns.pop('sun protection')\n",
    "concerns.pop('lightening')\n",
    "concerns.pop('tan removal')\n",
    "concerns.pop('excess oil')\n",
    "\n",
    "# concerns.pop('anti acne scarring')\n",
    "# concerns['scarring'] = \n",
    "# concerns.remo('blackheads removal')\n",
    "# concerns.remove('dull skin')\n",
    "# # concerns.remove('dullness')\n",
    "# concerns.add('dull')\n",
    "# concerns.remove('oily skin')\n",
    "# concerns.remove('excess oil')\n",
    "# concerns.remove('oil control')\n",
    "# concerns.add('oil')"
   ]
  },
  {
   "cell_type": "code",
   "execution_count": 113,
   "id": "d5d0b141",
   "metadata": {},
   "outputs": [],
   "source": [
    "features = list(df2['skin type'].unique()) + list(concerns)\n",
    "(features)\n",
    "\n",
    "features = ['normal','dry','oily','combination', 'acne','sensitive','fine lines', 'wrinkles', 'redness', 'dull', 'pore', 'pigmentation', 'blackheads','whiteheads', 'blemishes', 'dark circles', 'eye bags', 'dark spots']"
   ]
  },
  {
   "cell_type": "code",
   "execution_count": 114,
   "id": "ad98a1a7",
   "metadata": {},
   "outputs": [
    {
     "name": "stdout",
     "output_type": "stream",
     "text": [
      "<class 'pandas.core.frame.DataFrame'>\n",
      "Int64Index: 867 entries, 0 to 866\n",
      "Data columns (total 7 columns):\n",
      " #   Column     Non-Null Count  Dtype \n",
      "---  ------     --------------  ----- \n",
      " 0   label      867 non-null    object\n",
      " 1   url        867 non-null    object\n",
      " 2   brand      867 non-null    object\n",
      " 3   name       867 non-null    object\n",
      " 4   price      867 non-null    object\n",
      " 5   skin type  867 non-null    object\n",
      " 6   concern    867 non-null    object\n",
      "dtypes: object(7)\n",
      "memory usage: 54.2+ KB\n"
     ]
    }
   ],
   "source": [
    "df2.info()"
   ]
  },
  {
   "cell_type": "code",
   "execution_count": 115,
   "id": "56fc0a23",
   "metadata": {},
   "outputs": [
    {
     "data": {
      "text/plain": [
       "18"
      ]
     },
     "execution_count": 115,
     "metadata": {},
     "output_type": "execute_result"
    }
   ],
   "source": [
    "len(features)"
   ]
  },
  {
   "cell_type": "code",
   "execution_count": 116,
   "id": "1db8d323",
   "metadata": {},
   "outputs": [],
   "source": [
    "def search_concern(target, i):\n",
    "    if target in df2.iloc[i]['concern']:\n",
    "        return True\n",
    "    return False\n",
    "\n",
    "one_hot_encodings = np.zeros([entries, len(features)])\n",
    "\n",
    "#skin types first\n",
    "for i in range(entries):\n",
    "    for j in range(5):\n",
    "        target = features[j]\n",
    "        sk_type = df2.iloc[i]['skin type']\n",
    "        if sk_type == 'all':\n",
    "            one_hot_encodings[i][0:5] = 1\n",
    "        elif target == sk_type:\n",
    "            one_hot_encodings[i][j] = 1\n",
    "\n",
    "#other features\n",
    "for i in range(entries):\n",
    "    for j in range(5, len(features)):\n",
    "        feature = features[j]\n",
    "        if feature in df2.iloc[i]['concern']:\n",
    "            one_hot_encodings[i][j] = 1\n",
    "            \n",
    "    "
   ]
  },
  {
   "cell_type": "code",
   "execution_count": 117,
   "id": "93e1c061",
   "metadata": {},
   "outputs": [],
   "source": [
    "x = one_hot_encodings[456]"
   ]
  },
  {
   "cell_type": "code",
   "execution_count": 118,
   "id": "73d39607",
   "metadata": {},
   "outputs": [],
   "source": [
    "from sklearn.neighbors import NearestNeighbors\n",
    "nbrs = NearestNeighbors(n_neighbors=6, algorithm='ball_tree').fit(one_hot_encodings)\n",
    "distances, indices = nbrs.kneighbors(one_hot_encodings)\n",
    "\n",
    "# get_index_from_name('peach milk soft creme 150g')\n"
   ]
  },
  {
   "cell_type": "code",
   "execution_count": 119,
   "id": "2c86fab3",
   "metadata": {},
   "outputs": [],
   "source": [
    "# finding the closes data points\n",
    "def recs_nn(query=None,id=None):\n",
    "    if id:\n",
    "        for id in indices[id][1:]:\n",
    "            print(anime.ix[id][\"name\"])\n",
    "    if query:\n",
    "        found_id = get_index_from_name(query)\n",
    "        for id in indices[found_id][1:]:\n",
    "            print(index2prod(id))"
   ]
  },
  {
   "cell_type": "markdown",
   "id": "f5e79c5f",
   "metadata": {},
   "source": [
    "## Cosine Similarity"
   ]
  },
  {
   "cell_type": "code",
   "execution_count": 120,
   "id": "d032f52f",
   "metadata": {},
   "outputs": [],
   "source": [
    "# utility functions\n",
    "def name2index(name):\n",
    "    return df2[df2[\"name\"]==name].index.tolist()[0]\n",
    "\n",
    "def index2prod(index):\n",
    "    return df2.iloc[index]"
   ]
  },
  {
   "cell_type": "code",
   "execution_count": 121,
   "id": "a6f55dab",
   "metadata": {},
   "outputs": [],
   "source": [
    "# recommend top 10 similar items from a category\n",
    "def recs_cs(vector = None, name = None, label = None, count = 5):\n",
    "    if name:\n",
    "        idx = name2index(name)\n",
    "        fv = one_hot_encodings[idx]\n",
    "    elif vector:\n",
    "        fv = vector\n",
    "    cs_values = cosine_similarity(np.array([fv, ]), one_hot_encodings)\n",
    "    df2['cs'] = cs_values[0]\n",
    "    dff = df2\n",
    "    if label:\n",
    "        dff = df2[df2['label'] == label]\n",
    "    if name:\n",
    "        dff = dff[dff['name'] != name]\n",
    "    recommendations = dff.sort_values('cs', ascending=False).head(count)\n",
    "    print(f\"Top {count} matching {label} items\")\n",
    "    return recommendations[['label', 'brand', 'concern', 'cs']]"
   ]
  },
  {
   "cell_type": "code",
   "execution_count": 122,
   "id": "e332e04a",
   "metadata": {},
   "outputs": [],
   "source": [
    "# overall recommendation\n",
    "def recs_essentials(vector = None, name = None):\n",
    "    print(\"ESSENTIALS:\")\n",
    "    for label in LABELS:\n",
    "        print(f\"{label}:\")\n",
    "        if name: \n",
    "            print(recs_cs(None, name, label))\n",
    "        elif vector:\n",
    "            print(recs_cs(vector, None, label))        "
   ]
  },
  {
   "cell_type": "code",
   "execution_count": 123,
   "id": "fc00273f",
   "metadata": {},
   "outputs": [
    {
     "name": "stdout",
     "output_type": "stream",
     "text": [
      "ESSENTIALS:\n",
      "face-moisturisers:\n",
      "Top 5 matching face-moisturisers items\n",
      "                 label              brand  \\\n",
      "118  face-moisturisers  azani active care   \n",
      "151  face-moisturisers          mamaearth   \n",
      "141  face-moisturisers            garnier   \n",
      "194  face-moisturisers           biotique   \n",
      "227  face-moisturisers          innisfree   \n",
      "\n",
      "                                       concern        cs  \n",
      "118  deep nourishment,acne,blemishes,dull skin  0.801784  \n",
      "151      acne,blemishes,pigmentation,dull skin  0.750000  \n",
      "141                           acne,blemishes,,  0.721688  \n",
      "194       uneven skin tone,dull skin,hydration  0.721688  \n",
      "227         sun protection,dull skin,hydration  0.721688  \n",
      "cleanser:\n",
      "Top 5 matching cleanser items\n",
      "        label             brand  \\\n",
      "462  cleanser        just herbs   \n",
      "298  cleanser          biotique   \n",
      "305  cleanser          biotique   \n",
      "358  cleanser  wow skin science   \n",
      "314  cleanser  wow skin science   \n",
      "\n",
      "                                            concern        cs  \n",
      "462           dull skin,general care,acne,blemishes  0.801784  \n",
      "298              acne,blemishes,dull skin,dull skin  0.801784  \n",
      "305              acne,blemishes,dull skin,dull skin  0.801784  \n",
      "358           acne,blemishes,dull skin,pigmentation  0.750000  \n",
      "314  anti-pollution,deep nourishment,acne,blemishes  0.721688  \n",
      "mask-and-peel:\n",
      "Top 5 matching mask-and-peel items\n",
      "             label       brand  \\\n",
      "627  mask-and-peel   nutriglow   \n",
      "732  mask-and-peel     casmara   \n",
      "849  mask-and-peel   nutriglow   \n",
      "766  mask-and-peel  good vibes   \n",
      "801  mask-and-peel   nutriglow   \n",
      "\n",
      "                                            concern        cs  \n",
      "627       acne,blemishes,dull skin,deep nourishment  0.801784  \n",
      "732  acne,blemishes,dull skin,softening,smoothening  0.801784  \n",
      "849       acne,blemishes,dull skin,deep nourishment  0.801784  \n",
      "766            dull skin,tan removal,acne,blemishes  0.801784  \n",
      "801       acne,blemishes,dull skin,deep nourishment  0.801784  \n"
     ]
    }
   ],
   "source": [
    "# features = ['normal','dry','oily','combination', 'acne','sensitive','fine lines', 'wrinkles', 'redness', 'dull', 'pore ', 'pigmentation', 'blackheads','whiteheads', 'blemishes', 'dark circles', 'eye bags', 'dark spots']\n",
    "x = [1,1,1,1,0,1,0,0,0,1,0,0,0,0,1,0,1,0]\n",
    "\n",
    "recs_essentials(x, None)"
   ]
  },
  {
   "cell_type": "markdown",
   "id": "d02c490c",
   "metadata": {},
   "source": [
    "## Makeup Items"
   ]
  },
  {
   "cell_type": "code",
   "execution_count": 124,
   "id": "432359f9",
   "metadata": {},
   "outputs": [
    {
     "name": "stdout",
     "output_type": "stream",
     "text": [
      "<class 'pandas.core.frame.DataFrame'>\n",
      "RangeIndex: 790 entries, 0 to 789\n",
      "Data columns (total 13 columns):\n",
      " #   Column          Non-Null Count  Dtype  \n",
      "---  ------          --------------  -----  \n",
      " 0   label           790 non-null    object \n",
      " 1   url             790 non-null    object \n",
      " 2   brand           790 non-null    object \n",
      " 3   name            790 non-null    object \n",
      " 4   price           790 non-null    object \n",
      " 5   skin type       443 non-null    object \n",
      " 6   skin tone       494 non-null    object \n",
      " 7   spf             108 non-null    object \n",
      " 8   concern         379 non-null    object \n",
      " 9   concern 2       0 non-null      float64\n",
      " 10  concern 3       0 non-null      float64\n",
      " 11  key ingredient  118 non-null    object \n",
      " 12  formulation     786 non-null    object \n",
      "dtypes: float64(2), object(11)\n",
      "memory usage: 80.4+ KB\n"
     ]
    }
   ],
   "source": [
    "# info\n",
    "makeup.info()"
   ]
  },
  {
   "cell_type": "code",
   "execution_count": 125,
   "id": "75d192c9",
   "metadata": {},
   "outputs": [],
   "source": [
    "makeup.drop(columns = ['concern 2', 'concern 3', 'key ingredient', 'formulation', 'spf', 'concern'], inplace = True)"
   ]
  },
  {
   "cell_type": "code",
   "execution_count": 126,
   "id": "f69e8e0c",
   "metadata": {},
   "outputs": [
    {
     "data": {
      "text/plain": [
       "label          0\n",
       "url            0\n",
       "brand          0\n",
       "name           0\n",
       "price          0\n",
       "skin type    347\n",
       "skin tone    296\n",
       "dtype: int64"
      ]
     },
     "execution_count": 126,
     "metadata": {},
     "output_type": "execute_result"
    }
   ],
   "source": [
    "makeup.isna().sum()"
   ]
  },
  {
   "cell_type": "code",
   "execution_count": 127,
   "id": "de02a336",
   "metadata": {},
   "outputs": [],
   "source": [
    "makeup.dropna(subset=['skin tone'], inplace=True)\n"
   ]
  },
  {
   "cell_type": "code",
   "execution_count": 128,
   "id": "41c8b4b7",
   "metadata": {},
   "outputs": [
    {
     "data": {
      "text/plain": [
       "All            73\n",
       "Normal         31\n",
       "Oily            7\n",
       "Combination     3\n",
       "Dry             1\n",
       "Name: skin type, dtype: int64"
      ]
     },
     "execution_count": 128,
     "metadata": {},
     "output_type": "execute_result"
    }
   ],
   "source": [
    "makeup[makeup['label'] == 'foundation']['skin type'].value_counts()"
   ]
  },
  {
   "cell_type": "code",
   "execution_count": 129,
   "id": "d44046da",
   "metadata": {},
   "outputs": [
    {
     "data": {
      "text/plain": [
       "82"
      ]
     },
     "execution_count": 129,
     "metadata": {},
     "output_type": "execute_result"
    }
   ],
   "source": [
    "makeup[makeup['label'] == 'foundation']['skin type'].isna().sum()"
   ]
  },
  {
   "cell_type": "code",
   "execution_count": 130,
   "id": "04d3e93b",
   "metadata": {},
   "outputs": [
    {
     "data": {
      "text/plain": [
       "53"
      ]
     },
     "execution_count": 130,
     "metadata": {},
     "output_type": "execute_result"
    }
   ],
   "source": [
    "makeup[makeup['label'] == 'primer']['skin type'].isna().sum()"
   ]
  },
  {
   "cell_type": "code",
   "execution_count": 131,
   "id": "12a53f49",
   "metadata": {},
   "outputs": [
    {
     "data": {
      "text/plain": [
       "All            66\n",
       "Normal         53\n",
       "Oily           10\n",
       "Combination     1\n",
       "Name: skin type, dtype: int64"
      ]
     },
     "execution_count": 131,
     "metadata": {},
     "output_type": "execute_result"
    }
   ],
   "source": [
    "makeup[makeup['label'] == 'primer']['skin type'].value_counts()"
   ]
  },
  {
   "cell_type": "code",
   "execution_count": 132,
   "id": "210fdf57",
   "metadata": {},
   "outputs": [
    {
     "data": {
      "text/plain": [
       "70"
      ]
     },
     "execution_count": 132,
     "metadata": {},
     "output_type": "execute_result"
    }
   ],
   "source": [
    "makeup[makeup['label'] == 'concealer']['skin type'].isna().sum()"
   ]
  },
  {
   "cell_type": "code",
   "execution_count": 133,
   "id": "f1f5adf4",
   "metadata": {},
   "outputs": [
    {
     "data": {
      "text/plain": [
       "All            32\n",
       "Normal         11\n",
       "Combination     1\n",
       "Name: skin type, dtype: int64"
      ]
     },
     "execution_count": 133,
     "metadata": {},
     "output_type": "execute_result"
    }
   ],
   "source": [
    "makeup[makeup['label'] == 'concealer']['skin type'].value_counts()"
   ]
  },
  {
   "cell_type": "code",
   "execution_count": 134,
   "id": "f8c0c989",
   "metadata": {},
   "outputs": [],
   "source": [
    "makeup['skin type'].fillna('All', inplace = True)"
   ]
  },
  {
   "cell_type": "code",
   "execution_count": 135,
   "id": "15bfed55",
   "metadata": {},
   "outputs": [],
   "source": [
    "makeup['brand'] = makeup['brand'].str.lower()\n",
    "makeup['name'] = makeup['name'].str.lower()\n",
    "makeup['skin type'] = makeup['skin type'].str.lower()\n",
    "makeup['skin tone'] = makeup['skin tone'].str.lower()\n"
   ]
  },
  {
   "cell_type": "code",
   "execution_count": 136,
   "id": "451dab55",
   "metadata": {},
   "outputs": [],
   "source": [
    "def makeup_recommendation(skin_tone, skin_type):\n",
    "    \n",
    "    dff = pd.DataFrame()\n",
    "    dff = dff.append(makeup[(makeup['skin tone'] == skin_tone) & (makeup['skin type'] == skin_type) & (makeup['label'] == 'foundation')].head(2))\n",
    "    dff = dff.append(makeup[(makeup['skin tone'] == skin_tone) & (makeup['skin type'] == skin_type) & (makeup['label'] == 'concealer')].head(2))\n",
    "    dff = dff.append(makeup[(makeup['skin tone'] == skin_tone) & (makeup['skin type'] == skin_type) & (makeup['label'] == 'primer')].head(2))\n",
    "    dff= dff.sample(frac = 1)\n",
    "    return dff\n",
    "\n"
   ]
  },
  {
   "cell_type": "code",
   "execution_count": 137,
   "id": "ea47ecdc",
   "metadata": {},
   "outputs": [
    {
     "data": {
      "text/html": [
       "<div>\n",
       "<style scoped>\n",
       "    .dataframe tbody tr th:only-of-type {\n",
       "        vertical-align: middle;\n",
       "    }\n",
       "\n",
       "    .dataframe tbody tr th {\n",
       "        vertical-align: top;\n",
       "    }\n",
       "\n",
       "    .dataframe thead th {\n",
       "        text-align: right;\n",
       "    }\n",
       "</style>\n",
       "<table border=\"1\" class=\"dataframe\">\n",
       "  <thead>\n",
       "    <tr style=\"text-align: right;\">\n",
       "      <th></th>\n",
       "      <th>label</th>\n",
       "      <th>url</th>\n",
       "      <th>brand</th>\n",
       "      <th>name</th>\n",
       "      <th>price</th>\n",
       "      <th>skin type</th>\n",
       "      <th>skin tone</th>\n",
       "    </tr>\n",
       "  </thead>\n",
       "  <tbody>\n",
       "    <tr>\n",
       "      <th>251</th>\n",
       "      <td>foundation</td>\n",
       "      <td>https://www.myntra.com/foundation-and-primer/f...</td>\n",
       "      <td>faces canada</td>\n",
       "      <td>weightless matte finish mini foundation natura...</td>\n",
       "      <td>₹ 169</td>\n",
       "      <td>normal</td>\n",
       "      <td>light to medium</td>\n",
       "    </tr>\n",
       "    <tr>\n",
       "      <th>4</th>\n",
       "      <td>primer</td>\n",
       "      <td>https://www.myntra.com/foundation-and-primer/w...</td>\n",
       "      <td>wet n wild</td>\n",
       "      <td>sustainable photo focus matte face primer - pa...</td>\n",
       "      <td>₹ 454</td>\n",
       "      <td>normal</td>\n",
       "      <td>light to medium</td>\n",
       "    </tr>\n",
       "    <tr>\n",
       "      <th>245</th>\n",
       "      <td>foundation</td>\n",
       "      <td>https://www.myntra.com/foundation-and-primer/f...</td>\n",
       "      <td>faces canada</td>\n",
       "      <td>ultime pro makeup fixer</td>\n",
       "      <td>₹ 486</td>\n",
       "      <td>normal</td>\n",
       "      <td>light to medium</td>\n",
       "    </tr>\n",
       "    <tr>\n",
       "      <th>2</th>\n",
       "      <td>primer</td>\n",
       "      <td>https://www.myntra.com/foundation-and-primer/w...</td>\n",
       "      <td>wet n wild</td>\n",
       "      <td>sustainable photo focus natural finish setting...</td>\n",
       "      <td>₹ 454</td>\n",
       "      <td>normal</td>\n",
       "      <td>light to medium</td>\n",
       "    </tr>\n",
       "    <tr>\n",
       "      <th>567</th>\n",
       "      <td>concealer</td>\n",
       "      <td>https://www.myntra.com/concealer/loreal/loreal...</td>\n",
       "      <td>loreal</td>\n",
       "      <td>paris true match super blendable concealer - g...</td>\n",
       "      <td>₹ 849</td>\n",
       "      <td>normal</td>\n",
       "      <td>light to medium</td>\n",
       "    </tr>\n",
       "    <tr>\n",
       "      <th>542</th>\n",
       "      <td>concealer</td>\n",
       "      <td>https://www.myntra.com/concealer/la-girl/la-gi...</td>\n",
       "      <td>l.a girl</td>\n",
       "      <td>warm honey hd pro concealer gc982</td>\n",
       "      <td>₹ 695</td>\n",
       "      <td>normal</td>\n",
       "      <td>light to medium</td>\n",
       "    </tr>\n",
       "  </tbody>\n",
       "</table>\n",
       "</div>"
      ],
      "text/plain": [
       "          label                                                url  \\\n",
       "251  foundation  https://www.myntra.com/foundation-and-primer/f...   \n",
       "4        primer  https://www.myntra.com/foundation-and-primer/w...   \n",
       "245  foundation  https://www.myntra.com/foundation-and-primer/f...   \n",
       "2        primer  https://www.myntra.com/foundation-and-primer/w...   \n",
       "567   concealer  https://www.myntra.com/concealer/loreal/loreal...   \n",
       "542   concealer  https://www.myntra.com/concealer/la-girl/la-gi...   \n",
       "\n",
       "            brand                                               name  price  \\\n",
       "251  faces canada  weightless matte finish mini foundation natura...  ₹ 169   \n",
       "4      wet n wild  sustainable photo focus matte face primer - pa...  ₹ 454   \n",
       "245  faces canada                            ultime pro makeup fixer  ₹ 486   \n",
       "2      wet n wild  sustainable photo focus natural finish setting...  ₹ 454   \n",
       "567        loreal  paris true match super blendable concealer - g...  ₹ 849   \n",
       "542      l.a girl                  warm honey hd pro concealer gc982  ₹ 695   \n",
       "\n",
       "    skin type        skin tone  \n",
       "251    normal  light to medium  \n",
       "4      normal  light to medium  \n",
       "245    normal  light to medium  \n",
       "2      normal  light to medium  \n",
       "567    normal  light to medium  \n",
       "542    normal  light to medium  "
      ]
     },
     "execution_count": 137,
     "metadata": {},
     "output_type": "execute_result"
    }
   ],
   "source": [
    "makeup_recommendation('light to medium', 'normal')"
   ]
  },
  {
   "cell_type": "code",
   "execution_count": 140,
   "id": "50a3eab2",
   "metadata": {},
   "outputs": [],
   "source": [
    "df2\n",
    "df2.to_csv('general_skin_care.csv')"
   ]
  },
  {
   "cell_type": "code",
   "execution_count": 142,
   "id": "41ce1ff2",
   "metadata": {},
   "outputs": [],
   "source": [
    "df2.drop(columns = ['cs'], inplace = True)"
   ]
  },
  {
   "cell_type": "code",
   "execution_count": 143,
   "id": "3652546c",
   "metadata": {},
   "outputs": [
    {
     "data": {
      "text/html": [
       "<div>\n",
       "<style scoped>\n",
       "    .dataframe tbody tr th:only-of-type {\n",
       "        vertical-align: middle;\n",
       "    }\n",
       "\n",
       "    .dataframe tbody tr th {\n",
       "        vertical-align: top;\n",
       "    }\n",
       "\n",
       "    .dataframe thead th {\n",
       "        text-align: right;\n",
       "    }\n",
       "</style>\n",
       "<table border=\"1\" class=\"dataframe\">\n",
       "  <thead>\n",
       "    <tr style=\"text-align: right;\">\n",
       "      <th></th>\n",
       "      <th>label</th>\n",
       "      <th>url</th>\n",
       "      <th>brand</th>\n",
       "      <th>name</th>\n",
       "      <th>price</th>\n",
       "      <th>skin type</th>\n",
       "      <th>concern</th>\n",
       "    </tr>\n",
       "  </thead>\n",
       "  <tbody>\n",
       "    <tr>\n",
       "      <th>0</th>\n",
       "      <td>face-moisturisers</td>\n",
       "      <td>https://www.myntra.com/face-moisturisers/lakme...</td>\n",
       "      <td>lakme</td>\n",
       "      <td>absolute perfect radiance skin lightening day ...</td>\n",
       "      <td>₹ 79</td>\n",
       "      <td>all</td>\n",
       "      <td>general care,,</td>\n",
       "    </tr>\n",
       "    <tr>\n",
       "      <th>1</th>\n",
       "      <td>face-moisturisers</td>\n",
       "      <td>https://www.myntra.com/face-moisturisers/bioti...</td>\n",
       "      <td>biotique</td>\n",
       "      <td>bio morning nectar flawless sustainable skin m...</td>\n",
       "      <td>₹ 165</td>\n",
       "      <td>all</td>\n",
       "      <td>uneven skin tone,hydration,dark spots</td>\n",
       "    </tr>\n",
       "    <tr>\n",
       "      <th>2</th>\n",
       "      <td>face-moisturisers</td>\n",
       "      <td>https://www.myntra.com/face-moisturisers/nivea...</td>\n",
       "      <td>nivea</td>\n",
       "      <td>unisex aloe hydration skin cream 100 ml</td>\n",
       "      <td>₹ 92</td>\n",
       "      <td>all</td>\n",
       "      <td>dull skin,dryness,general care</td>\n",
       "    </tr>\n",
       "    <tr>\n",
       "      <th>3</th>\n",
       "      <td>face-moisturisers</td>\n",
       "      <td>https://www.myntra.com/face-moisturisers/vi-jo...</td>\n",
       "      <td>vi-john</td>\n",
       "      <td>women set of 5 saffron fairness cream advanced</td>\n",
       "      <td>₹ 187</td>\n",
       "      <td>all</td>\n",
       "      <td>softening,smoothening,softening,smoothening,su...</td>\n",
       "    </tr>\n",
       "    <tr>\n",
       "      <th>4</th>\n",
       "      <td>face-moisturisers</td>\n",
       "      <td>https://www.myntra.com/face-moisturisers/lakme...</td>\n",
       "      <td>lakme</td>\n",
       "      <td>peach milk soft creme 150g</td>\n",
       "      <td>₹ 192</td>\n",
       "      <td>all</td>\n",
       "      <td>general care,,</td>\n",
       "    </tr>\n",
       "    <tr>\n",
       "      <th>...</th>\n",
       "      <td>...</td>\n",
       "      <td>...</td>\n",
       "      <td>...</td>\n",
       "      <td>...</td>\n",
       "      <td>...</td>\n",
       "      <td>...</td>\n",
       "      <td>...</td>\n",
       "    </tr>\n",
       "    <tr>\n",
       "      <th>862</th>\n",
       "      <td>mask-and-peel</td>\n",
       "      <td>https://www.myntra.com/mask-and-peel/samisha/s...</td>\n",
       "      <td>samisha</td>\n",
       "      <td>vitamin c sleeping mask 50 ml</td>\n",
       "      <td>₹ 399</td>\n",
       "      <td>all</td>\n",
       "      <td>daily use,dark spots,hydration</td>\n",
       "    </tr>\n",
       "    <tr>\n",
       "      <th>863</th>\n",
       "      <td>mask-and-peel</td>\n",
       "      <td>https://www.myntra.com/mask-and-peel/mancode/m...</td>\n",
       "      <td>mancode</td>\n",
       "      <td>pack of 3 de-tan facial sheet mask 25ml each</td>\n",
       "      <td>₹ 299</td>\n",
       "      <td>all</td>\n",
       "      <td>hydration,hydration,softening,smoothening</td>\n",
       "    </tr>\n",
       "    <tr>\n",
       "      <th>864</th>\n",
       "      <td>mask-and-peel</td>\n",
       "      <td>https://www.myntra.com/mask-and-peel/masking/m...</td>\n",
       "      <td>masking</td>\n",
       "      <td>set of 5 beauty green tea facial sheet mask 100ml</td>\n",
       "      <td>₹ 333</td>\n",
       "      <td>all</td>\n",
       "      <td>daily use,hydration,anti-pollution</td>\n",
       "    </tr>\n",
       "    <tr>\n",
       "      <th>865</th>\n",
       "      <td>mask-and-peel</td>\n",
       "      <td>https://www.myntra.com/mask-and-peel/good-vibe...</td>\n",
       "      <td>good vibes</td>\n",
       "      <td>rose hydrating face mask 110 g</td>\n",
       "      <td>₹ 268</td>\n",
       "      <td>all</td>\n",
       "      <td>dull skin,softening,smoothening,hydration</td>\n",
       "    </tr>\n",
       "    <tr>\n",
       "      <th>866</th>\n",
       "      <td>mask-and-peel</td>\n",
       "      <td>https://www.myntra.com/mask-and-peel/miss-clai...</td>\n",
       "      <td>miss claire</td>\n",
       "      <td>charcoal o2 bubble purifying mask</td>\n",
       "      <td>₹ 120</td>\n",
       "      <td>all</td>\n",
       "      <td>hydration,,</td>\n",
       "    </tr>\n",
       "  </tbody>\n",
       "</table>\n",
       "<p>867 rows × 7 columns</p>\n",
       "</div>"
      ],
      "text/plain": [
       "                 label                                                url  \\\n",
       "0    face-moisturisers  https://www.myntra.com/face-moisturisers/lakme...   \n",
       "1    face-moisturisers  https://www.myntra.com/face-moisturisers/bioti...   \n",
       "2    face-moisturisers  https://www.myntra.com/face-moisturisers/nivea...   \n",
       "3    face-moisturisers  https://www.myntra.com/face-moisturisers/vi-jo...   \n",
       "4    face-moisturisers  https://www.myntra.com/face-moisturisers/lakme...   \n",
       "..                 ...                                                ...   \n",
       "862      mask-and-peel  https://www.myntra.com/mask-and-peel/samisha/s...   \n",
       "863      mask-and-peel  https://www.myntra.com/mask-and-peel/mancode/m...   \n",
       "864      mask-and-peel  https://www.myntra.com/mask-and-peel/masking/m...   \n",
       "865      mask-and-peel  https://www.myntra.com/mask-and-peel/good-vibe...   \n",
       "866      mask-and-peel  https://www.myntra.com/mask-and-peel/miss-clai...   \n",
       "\n",
       "           brand                                               name  price  \\\n",
       "0          lakme  absolute perfect radiance skin lightening day ...   ₹ 79   \n",
       "1       biotique  bio morning nectar flawless sustainable skin m...  ₹ 165   \n",
       "2          nivea            unisex aloe hydration skin cream 100 ml   ₹ 92   \n",
       "3        vi-john     women set of 5 saffron fairness cream advanced  ₹ 187   \n",
       "4          lakme                         peach milk soft creme 150g  ₹ 192   \n",
       "..           ...                                                ...    ...   \n",
       "862      samisha                      vitamin c sleeping mask 50 ml  ₹ 399   \n",
       "863      mancode       pack of 3 de-tan facial sheet mask 25ml each  ₹ 299   \n",
       "864      masking  set of 5 beauty green tea facial sheet mask 100ml  ₹ 333   \n",
       "865   good vibes                     rose hydrating face mask 110 g  ₹ 268   \n",
       "866  miss claire                  charcoal o2 bubble purifying mask  ₹ 120   \n",
       "\n",
       "    skin type                                            concern  \n",
       "0         all                                     general care,,  \n",
       "1         all              uneven skin tone,hydration,dark spots  \n",
       "2         all                     dull skin,dryness,general care  \n",
       "3         all  softening,smoothening,softening,smoothening,su...  \n",
       "4         all                                     general care,,  \n",
       "..        ...                                                ...  \n",
       "862       all                     daily use,dark spots,hydration  \n",
       "863       all          hydration,hydration,softening,smoothening  \n",
       "864       all                 daily use,hydration,anti-pollution  \n",
       "865       all          dull skin,softening,smoothening,hydration  \n",
       "866       all                                        hydration,,  \n",
       "\n",
       "[867 rows x 7 columns]"
      ]
     },
     "execution_count": 143,
     "metadata": {},
     "output_type": "execute_result"
    }
   ],
   "source": [
    "df2"
   ]
  },
  {
   "cell_type": "code",
   "execution_count": null,
   "id": "8d83c214",
   "metadata": {},
   "outputs": [],
   "source": []
  }
 ],
 "metadata": {
  "kernelspec": {
   "display_name": "Python 3",
   "language": "python",
   "name": "python3"
  },
  "language_info": {
   "codemirror_mode": {
    "name": "ipython",
    "version": 3
   },
   "file_extension": ".py",
   "mimetype": "text/x-python",
   "name": "python",
   "nbconvert_exporter": "python",
   "pygments_lexer": "ipython3",
   "version": "3.6.9"
  }
 },
 "nbformat": 4,
 "nbformat_minor": 5
}
