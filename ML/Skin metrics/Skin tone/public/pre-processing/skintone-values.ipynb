{
 "cells": [
  {
   "cell_type": "code",
   "execution_count": 1,
   "metadata": {},
   "outputs": [],
   "source": [
    "\"\"\"\n",
    "To generate skin color tone csv for skin tone classification\n",
    "\"\"\"\n",
    "import cv2\n",
    "import numpy as np\n",
    "import pandas as pd\n",
    "import os\n"
   ]
  },
  {
   "cell_type": "code",
   "execution_count": null,
   "metadata": {},
   "outputs": [],
   "source": [
    "folder = \"images\\skin tone values\"\n",
    "df = pd.DataFrame()\n",
    "for subfolder in os.listdir(folder):\n",
    "    for filename in os.listdir(os.path.join(folder, subfolder)):\n",
    "        img = cv2.imread(os.path.join(folder, subfolder, filename))\n",
    "        if img is not None:\n",
    "            img_HSV = cv2.cvtColor(img, cv2.COLOR_BGR2HSV)\n",
    "            img_YCrCb = cv2.cvtColor(img, cv2.COLOR_BGR2YCrCb)\n",
    "            Cr = img_YCrCb.reshape([-1, 3])[:, 1]\n",
    "            Cb = img_YCrCb.reshape([-1, 3])[:, 2]\n",
    "            H = img_HSV.reshape([-1, 3])[:, 0]\n",
    "            df = df.append(pd.DataFrame({\n",
    "                'Type': subfolder,\n",
    "                'H': H[H[:] == max(H[:])][0],\n",
    "                'Cr' : Cr[Cr[:] == max(Cr[:])][0],\n",
    "                'Cb' : Cb[Cb[:] == max(Cb[:])][0]\n",
    "                }, index=[0]), ignore_index = True)\n",
    "            \n",
    "df.to_csv('skin_tone_dataset.csv', index=False)\n"
   ]
  },
  {
   "cell_type": "code",
   "execution_count": null,
   "metadata": {},
   "outputs": [],
   "source": []
  }
 ],
 "metadata": {
  "interpreter": {
   "hash": "ba2f22f42967f045b6a8cdadb7a1806ca4d147626f8330f177f9e32090d93637"
  },
  "kernelspec": {
   "display_name": "Python 3.9.6 64-bit",
   "name": "python3"
  },
  "language_info": {
   "codemirror_mode": {
    "name": "ipython",
    "version": 3
   },
   "file_extension": ".py",
   "mimetype": "text/x-python",
   "name": "python",
   "nbconvert_exporter": "python",
   "pygments_lexer": "ipython3",
   "version": "3.9.6"
  },
  "orig_nbformat": 4
 },
 "nbformat": 4,
 "nbformat_minor": 2
}
