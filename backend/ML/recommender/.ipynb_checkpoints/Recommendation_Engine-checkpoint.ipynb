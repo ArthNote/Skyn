{
 "cells": [
  {
   "cell_type": "markdown",
   "id": "6211de19",
   "metadata": {},
   "source": [
    "# Skincare Recommendation Engine\n"
   ]
  },
  {
   "cell_type": "markdown",
   "id": "c3e146c2",
   "metadata": {},
   "source": [
    "This notebook walks you through the development of a content-based recommendation engine that should take a list of skin metrics/concerns (skin type, tone, acne, blemishes, redness, etc) as input and return several products that might suit the user's skin. "
   ]
  },
  {
   "cell_type": "code",
   "execution_count": 2,
   "id": "e02d4282",
   "metadata": {},
   "outputs": [
    {
     "ename": "ModuleNotFoundError",
     "evalue": "No module named 'sklearn'",
     "output_type": "error",
     "traceback": [
      "\u001b[0;31m---------------------------------------------------------------------------\u001b[0m",
      "\u001b[0;31mModuleNotFoundError\u001b[0m                       Traceback (most recent call last)",
      "\u001b[0;32m<ipython-input-2-ba25884feaa0>\u001b[0m in \u001b[0;36m<module>\u001b[0;34m\u001b[0m\n\u001b[1;32m      1\u001b[0m \u001b[0;32mimport\u001b[0m \u001b[0mnumpy\u001b[0m \u001b[0;32mas\u001b[0m \u001b[0mnp\u001b[0m\u001b[0;34m\u001b[0m\u001b[0;34m\u001b[0m\u001b[0m\n\u001b[1;32m      2\u001b[0m \u001b[0;32mimport\u001b[0m \u001b[0mpandas\u001b[0m \u001b[0;32mas\u001b[0m \u001b[0mpd\u001b[0m\u001b[0;34m\u001b[0m\u001b[0;34m\u001b[0m\u001b[0m\n\u001b[0;32m----> 3\u001b[0;31m \u001b[0;32mfrom\u001b[0m \u001b[0msklearn\u001b[0m\u001b[0;34m.\u001b[0m\u001b[0mmetrics\u001b[0m\u001b[0;34m.\u001b[0m\u001b[0mpairwise\u001b[0m \u001b[0;32mimport\u001b[0m \u001b[0mcosine_similarity\u001b[0m\u001b[0;34m\u001b[0m\u001b[0;34m\u001b[0m\u001b[0m\n\u001b[0m\u001b[1;32m      4\u001b[0m \u001b[0;32mimport\u001b[0m \u001b[0mheapq\u001b[0m\u001b[0;34m\u001b[0m\u001b[0;34m\u001b[0m\u001b[0m\n",
      "\u001b[0;31mModuleNotFoundError\u001b[0m: No module named 'sklearn'"
     ]
    }
   ],
   "source": [
    "import numpy as np \n",
    "import pandas as pd\n",
    "from sklearn.metrics.pairwise import cosine_similarity\n",
    "import heapq\n"
   ]
  },
  {
   "cell_type": "code",
   "execution_count": null,
   "id": "f2339cd0",
   "metadata": {},
   "outputs": [],
   "source": [
    "# 'essentials' implies essential facial skincare products\n",
    "df = pd.read_csv('result.csv')\n",
    "makeup = pd.read_csv('result2.csv')"
   ]
  },
  {
   "cell_type": "code",
   "execution_count": null,
   "id": "5c62b323",
   "metadata": {},
   "outputs": [],
   "source": [
    "df.head()"
   ]
  },
  {
   "cell_type": "code",
   "execution_count": null,
   "id": "17bac683",
   "metadata": {},
   "outputs": [],
   "source": [
    "makeup.head()"
   ]
  },
  {
   "cell_type": "markdown",
   "id": "118feb49",
   "metadata": {},
   "source": [
    "## Data Preprocessing"
   ]
  },
  {
   "cell_type": "markdown",
   "id": "9d652c91",
   "metadata": {},
   "source": [
    "## Imputation of values"
   ]
  },
  {
   "cell_type": "code",
   "execution_count": null,
   "id": "3860a004",
   "metadata": {
    "scrolled": true
   },
   "outputs": [],
   "source": [
    "df['label'].value_counts()"
   ]
  },
  {
   "cell_type": "code",
   "execution_count": null,
   "id": "2f9db474",
   "metadata": {},
   "outputs": [],
   "source": [
    "df.isna().sum()"
   ]
  },
  {
   "cell_type": "code",
   "execution_count": null,
   "id": "5a386d84",
   "metadata": {},
   "outputs": [],
   "source": [
    "df['concern 2'].fillna('', inplace = True)\n",
    "df['concern 3'].fillna('', inplace = True)\n",
    "df['concern'] = df['concern'] + ',' + df['concern 2'] + ',' + df['concern 3']\n"
   ]
  },
  {
   "cell_type": "code",
   "execution_count": null,
   "id": "251108c2",
   "metadata": {},
   "outputs": [],
   "source": [
    "df['concern']"
   ]
  },
  {
   "cell_type": "code",
   "execution_count": null,
   "id": "857ab1c2",
   "metadata": {},
   "outputs": [],
   "source": [
    "df.drop(columns=['concern 2', 'concern 3', 'spf', 'key ingredient'], inplace = True)\n",
    "df['concern'].value_counts()"
   ]
  },
  {
   "cell_type": "code",
   "execution_count": null,
   "id": "e8770c2a",
   "metadata": {},
   "outputs": [],
   "source": [
    "df2 = df[((df['label'] == 'face-moisturisers') | (df['label'] == 'mask-and-peel') | (df['label'] == 'cleanser') | (df['label'] == 'eye-cream'))]\n",
    "df2\n",
    "LABELS = list(df2.label.unique())"
   ]
  },
  {
   "cell_type": "code",
   "execution_count": null,
   "id": "8d66115c",
   "metadata": {
    "scrolled": true
   },
   "outputs": [],
   "source": [
    "df2 = df2[df2['skin type'].isna() == False]\n",
    "df2.index = [i for i in range(0, len(df2))]\n",
    "df2.info()"
   ]
  },
  {
   "cell_type": "code",
   "execution_count": null,
   "id": "7721054c",
   "metadata": {},
   "outputs": [],
   "source": [
    "df2[df2['concern'].isna() == True]['label'].value_counts()"
   ]
  },
  {
   "cell_type": "code",
   "execution_count": null,
   "id": "be8a25ec",
   "metadata": {},
   "outputs": [],
   "source": [
    "df2[df2['label'] ==  'eye-cream']['concern'].value_counts()"
   ]
  },
  {
   "cell_type": "code",
   "execution_count": null,
   "id": "fce3fe39",
   "metadata": {},
   "outputs": [],
   "source": [
    "df2['concern'] = df2['concern'].str.lower()\n",
    "# df2[df2['label'] == 'face-moisturisers']['concern'].value_counts()\n",
    "# df2[df2['label'] == 'mask-and-peel']['concern'].value_counts()\n",
    "df2[df2['label'] == 'sunscreen']['concern'].value_counts()\n",
    "\n"
   ]
  },
  {
   "cell_type": "code",
   "execution_count": null,
   "id": "26c66535",
   "metadata": {},
   "outputs": [],
   "source": [
    "top_concerns = {'face-moisturisers':'general care', 'mask-and-peel':'daily use', 'cleanser':'general care', 'eye-cream':'fine lines,wrinkles,dark circles,eye bags' }\n",
    "entries = len(df2)\n",
    "for i in range(entries):\n",
    "    label = df2.iloc[i]['label']\n",
    "    if pd.isnull(df2.iloc[i]['concern']):\n",
    "        df2.iloc[i]['concern'] = top_concerns[label]\n",
    "df2.info()\n",
    "\n",
    "    "
   ]
  },
  {
   "cell_type": "code",
   "execution_count": null,
   "id": "45ae57db",
   "metadata": {},
   "outputs": [],
   "source": [
    "df2"
   ]
  },
  {
   "cell_type": "code",
   "execution_count": null,
   "id": "e9dd8a89",
   "metadata": {},
   "outputs": [],
   "source": [
    "df2['brand'] = df2['brand'].str.lower()\n",
    "df2['name'] = df2['name'].str.lower()\n",
    "df2['skin type'] = df2['skin type'].str.lower()\n",
    "df2['concern'] = df2['concern'].str.replace(' and ', ',').str.replace(' or ', ',')\n",
    "df2"
   ]
  },
  {
   "cell_type": "code",
   "execution_count": null,
   "id": "c6081aef",
   "metadata": {},
   "outputs": [],
   "source": [
    "def concern_elements(comma_sep_concerns):\n",
    "    words = comma_sep_concerns.split(',')\n",
    "    for w in words:\n",
    "        if w != '':\n",
    "            temp = w.rstrip()\n",
    "            if temp in concerns:\n",
    "                concerns[temp] += 1\n",
    "            else:\n",
    "                concerns[temp] = 1\n",
    "\n",
    "\n",
    "            \n",
    "# features\n",
    "list(df2['skin type'].unique())\n",
    "concerns = {}\n",
    "for i in range(entries):\n",
    "    concern_elements(df2.iloc[i]['concern'])\n",
    "    "
   ]
  },
  {
   "cell_type": "code",
   "execution_count": null,
   "id": "e9cb62a8",
   "metadata": {},
   "outputs": [],
   "source": []
  },
  {
   "cell_type": "code",
   "execution_count": null,
   "id": "43bfe84f",
   "metadata": {},
   "outputs": [],
   "source": [
    "print(sorted(concerns.items(), key =\n",
    "             lambda kv:(kv[1], kv[0])))   "
   ]
  },
  {
   "cell_type": "code",
   "execution_count": null,
   "id": "ea53fef4",
   "metadata": {},
   "outputs": [],
   "source": [
    "concerns.pop('anti acne scarring')\n",
    "concerns.pop('anti-ageing')\n",
    "concerns.pop('skin tightening')\n",
    "concerns.pop('blackheads removal')\n",
    "concerns.pop('irregular textures')\n",
    "concerns.pop('skin inflammation')\n",
    "concerns.pop('oil control')\n",
    "concerns.pop('redness')\n",
    "concerns.pop('oily skin')\n",
    "concerns.pop('skin sagging')\n",
    "concerns.pop('sun protection')\n",
    "concerns.pop('lightening')\n",
    "concerns.pop('tan removal')\n",
    "concerns.pop('excess oil')\n",
    "\n",
    "# concerns.pop('anti acne scarring')\n",
    "# concerns['scarring'] = \n",
    "# concerns.remo('blackheads removal')\n",
    "# concerns.remove('dull skin')\n",
    "# # concerns.remove('dullness')\n",
    "# concerns.add('dull')\n",
    "# concerns.remove('oily skin')\n",
    "# concerns.remove('excess oil')\n",
    "# concerns.remove('oil control')\n",
    "# concerns.add('oil')"
   ]
  },
  {
   "cell_type": "code",
   "execution_count": null,
   "id": "d5d0b141",
   "metadata": {},
   "outputs": [],
   "source": [
    "features = list(df2['skin type'].unique()) + list(concerns)\n",
    "(features)\n",
    "\n",
    "features = ['normal','dry','oily','combination', 'acne','sensitive','fine lines', 'wrinkles', 'redness', 'dull', 'pore', 'pigmentation', 'blackheads','whiteheads', 'blemishes', 'dark circles', 'eye bags', 'dark spots']"
   ]
  },
  {
   "cell_type": "code",
   "execution_count": null,
   "id": "ad98a1a7",
   "metadata": {},
   "outputs": [],
   "source": []
  },
  {
   "cell_type": "code",
   "execution_count": null,
   "id": "56fc0a23",
   "metadata": {},
   "outputs": [],
   "source": [
    "len(features)"
   ]
  },
  {
   "cell_type": "code",
   "execution_count": null,
   "id": "1db8d323",
   "metadata": {},
   "outputs": [],
   "source": [
    "def search_concern(target, i):\n",
    "    if target in df2.iloc[i]['concern']:\n",
    "        return True\n",
    "    return False\n",
    "\n",
    "one_hot_encodings = np.zeros([entries, len(features)])\n",
    "\n",
    "#skin types first\n",
    "for i in range(entries):\n",
    "    for j in range(5):\n",
    "        target = features[j]\n",
    "        sk_type = df2.iloc[i]['skin type']\n",
    "        if sk_type == 'all':\n",
    "            one_hot_encodings[i][0:5] = 1\n",
    "        elif target == sk_type:\n",
    "            one_hot_encodings[i][j] = 1\n",
    "\n",
    "#other features\n",
    "for i in range(entries):\n",
    "    for j in range(5, len(features)):\n",
    "        feature = features[j]\n",
    "        if feature in df2.iloc[i]['concern']:\n",
    "            one_hot_encodings[i][j] = 1\n",
    "            \n",
    "    "
   ]
  },
  {
   "cell_type": "code",
   "execution_count": null,
   "id": "93e1c061",
   "metadata": {},
   "outputs": [],
   "source": [
    "x = one_hot_encodings[456]"
   ]
  },
  {
   "cell_type": "code",
   "execution_count": null,
   "id": "73d39607",
   "metadata": {},
   "outputs": [],
   "source": [
    "from sklearn.neighbors import NearestNeighbors\n",
    "nbrs = NearestNeighbors(n_neighbors=6, algorithm='ball_tree').fit(one_hot_encodings)\n",
    "distances, indices = nbrs.kneighbors(one_hot_encodings)\n",
    "\n",
    "get_index_from_name('peach milk soft creme 150g')\n"
   ]
  },
  {
   "cell_type": "code",
   "execution_count": null,
   "id": "2c86fab3",
   "metadata": {},
   "outputs": [],
   "source": [
    "# finding the closes data points\n",
    "def recs_nn(query=None,id=None):\n",
    "    if id:\n",
    "        for id in indices[id][1:]:\n",
    "            print(anime.ix[id][\"name\"])\n",
    "    if query:\n",
    "        found_id = get_index_from_name(query)\n",
    "        for id in indices[found_id][1:]:\n",
    "            print(index2prod(id))"
   ]
  },
  {
   "cell_type": "markdown",
   "id": "f5e79c5f",
   "metadata": {},
   "source": [
    "## Cosine Similarity"
   ]
  },
  {
   "cell_type": "code",
   "execution_count": null,
   "id": "d032f52f",
   "metadata": {},
   "outputs": [],
   "source": [
    "# utility functions\n",
    "def name2index(name):\n",
    "    return df2[df2[\"name\"]==name].index.tolist()[0]\n",
    "\n",
    "def index2prod(index):\n",
    "    return df2.iloc[index]"
   ]
  },
  {
   "cell_type": "code",
   "execution_count": null,
   "id": "a6f55dab",
   "metadata": {},
   "outputs": [],
   "source": [
    "# recommend top 10 similar items from a category\n",
    "def recs_cs(vector = None, name = None, label = None, count = 5):\n",
    "    if name:\n",
    "        idx = name2index(name)\n",
    "        fv = one_hot_encodings[idx]\n",
    "    elif vector:\n",
    "        fv = vector\n",
    "    cs_values = cosine_similarity(np.array([fv, ]), one_hot_encodings)\n",
    "    df2['cs'] = cs_values[0]\n",
    "    dff = df2\n",
    "    if label:\n",
    "        dff = df2[df2['label'] == label]\n",
    "    if name:\n",
    "        dff = dff[dff['name'] != name]\n",
    "    recommendations = dff.sort_values('cs', ascending=False).head(count)\n",
    "    print(f\"Top {count} matching {label} items\")\n",
    "    return recommendations[['label', 'brand', 'concern', 'cs']]"
   ]
  },
  {
   "cell_type": "code",
   "execution_count": null,
   "id": "e332e04a",
   "metadata": {},
   "outputs": [],
   "source": [
    "# overall recommendation\n",
    "def recs_essentials(vector = None, name = None):\n",
    "    print(\"ESSENTIALS:\")\n",
    "    for label in LABELS:\n",
    "        print(f\"{label}:\")\n",
    "        if name: \n",
    "            print(recs_cs(None, name, label))\n",
    "        elif vector:\n",
    "            print(recs_cs(vector, None, label))        "
   ]
  },
  {
   "cell_type": "code",
   "execution_count": null,
   "id": "fc00273f",
   "metadata": {},
   "outputs": [],
   "source": [
    "# features = ['normal','dry','oily','combination', 'acne','sensitive','fine lines', 'wrinkles', 'redness', 'dull', 'pore ', 'pigmentation', 'blackheads','whiteheads', 'blemishes', 'dark circles', 'eye bags', 'dark spots']\n",
    "x = [1,1,1,1,0,1,0,0,0,1,0,0,0,0,1,0,1,0]\n",
    "\n",
    "recs_essentials(x, None)"
   ]
  },
  {
   "cell_type": "markdown",
   "id": "d02c490c",
   "metadata": {},
   "source": [
    "## Makeup Items"
   ]
  },
  {
   "cell_type": "code",
   "execution_count": null,
   "id": "432359f9",
   "metadata": {},
   "outputs": [],
   "source": [
    "# info\n",
    "makeup.info()"
   ]
  },
  {
   "cell_type": "code",
   "execution_count": null,
   "id": "75d192c9",
   "metadata": {},
   "outputs": [],
   "source": [
    "makeup.drop(columns = ['concern 2', 'concern 3', 'key ingredient', 'formulation', 'spf', 'concern'], inplace = True)"
   ]
  },
  {
   "cell_type": "code",
   "execution_count": null,
   "id": "f69e8e0c",
   "metadata": {},
   "outputs": [],
   "source": [
    "makeup.isna().sum()"
   ]
  },
  {
   "cell_type": "code",
   "execution_count": null,
   "id": "de02a336",
   "metadata": {},
   "outputs": [],
   "source": [
    "makeup.dropna(subset=['skin tone'], inplace=True)\n"
   ]
  },
  {
   "cell_type": "code",
   "execution_count": null,
   "id": "41c8b4b7",
   "metadata": {},
   "outputs": [],
   "source": [
    "makeup[makeup['label'] == 'foundation']['skin type'].value_counts()"
   ]
  },
  {
   "cell_type": "code",
   "execution_count": null,
   "id": "d44046da",
   "metadata": {},
   "outputs": [],
   "source": [
    "makeup[makeup['label'] == 'foundation']['skin type'].isna().sum()"
   ]
  },
  {
   "cell_type": "code",
   "execution_count": null,
   "id": "04d3e93b",
   "metadata": {},
   "outputs": [],
   "source": [
    "makeup[makeup['label'] == 'primer']['skin type'].isna().sum()"
   ]
  },
  {
   "cell_type": "code",
   "execution_count": null,
   "id": "12a53f49",
   "metadata": {},
   "outputs": [],
   "source": [
    "makeup[makeup['label'] == 'primer']['skin type'].value_counts()"
   ]
  },
  {
   "cell_type": "code",
   "execution_count": null,
   "id": "210fdf57",
   "metadata": {},
   "outputs": [],
   "source": [
    "makeup[makeup['label'] == 'concealer']['skin type'].isna().sum()"
   ]
  },
  {
   "cell_type": "code",
   "execution_count": null,
   "id": "f1f5adf4",
   "metadata": {},
   "outputs": [],
   "source": [
    "makeup[makeup['label'] == 'concealer']['skin type'].value_counts()"
   ]
  },
  {
   "cell_type": "code",
   "execution_count": null,
   "id": "f8c0c989",
   "metadata": {},
   "outputs": [],
   "source": [
    "makeup['skin type'].fillna('All', inplace = True)"
   ]
  },
  {
   "cell_type": "code",
   "execution_count": null,
   "id": "15bfed55",
   "metadata": {},
   "outputs": [],
   "source": [
    "makeup['brand'] = makeup['brand'].str.lower()\n",
    "makeup['name'] = makeup['name'].str.lower()\n",
    "makeup['skin type'] = makeup['skin type'].str.lower()\n",
    "makeup['skin tone'] = makeup['skin tone'].str.lower()\n"
   ]
  },
  {
   "cell_type": "code",
   "execution_count": null,
   "id": "451dab55",
   "metadata": {},
   "outputs": [],
   "source": [
    "def makeup_recommendation(skin_tone, skin_type):\n",
    "    \n",
    "    dff = pd.DataFrame()\n",
    "    dff = dff.append(makeup[(makeup['skin tone'] == skin_tone) & (makeup['skin type'] == skin_type) & (makeup['label'] == 'foundation')].head(2))\n",
    "    dff = dff.append(makeup[(makeup['skin tone'] == skin_tone) & (makeup['skin type'] == skin_type) & (makeup['label'] == 'concealer')].head(2))\n",
    "    dff = dff.append(makeup[(makeup['skin tone'] == skin_tone) & (makeup['skin type'] == skin_type) & (makeup['label'] == 'primer')].head(2))\n",
    "    dff= dff.sample(frac = 1)\n",
    "    return dff\n",
    "\n"
   ]
  },
  {
   "cell_type": "code",
   "execution_count": null,
   "id": "ea47ecdc",
   "metadata": {},
   "outputs": [],
   "source": [
    "makeup_recommendation('dark to deep', 'all')"
   ]
  },
  {
   "cell_type": "code",
   "execution_count": null,
   "id": "50a3eab2",
   "metadata": {},
   "outputs": [],
   "source": []
  },
  {
   "cell_type": "code",
   "execution_count": null,
   "id": "41ce1ff2",
   "metadata": {},
   "outputs": [],
   "source": []
  }
 ],
 "metadata": {
  "kernelspec": {
   "display_name": "Python 3",
   "language": "python",
   "name": "python3"
  },
  "language_info": {
   "codemirror_mode": {
    "name": "ipython",
    "version": 3
   },
   "file_extension": ".py",
   "mimetype": "text/x-python",
   "name": "python",
   "nbconvert_exporter": "python",
   "pygments_lexer": "ipython3",
   "version": "3.6.9"
  }
 },
 "nbformat": 4,
 "nbformat_minor": 5
}
